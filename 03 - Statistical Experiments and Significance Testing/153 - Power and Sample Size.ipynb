{
 "cells": [
  {
   "cell_type": "markdown",
   "id": "2c3ee483-7210-4232-af82-ae5db906bf77",
   "metadata": {},
   "source": [
    "## Power and Sample Size\n",
    "\n",
    "\n",
    "statsmodels has a number of methods for power calculation\n",
    "\n",
    "see e.g.: https://machinelearningmastery.com/statistical-power-and-power-analysis-in-python/\n",
    "\n",
    "The statsmodels package contains several methods for power calculation. Here, we use proportion_effectsize to calculate the effect size and TTestIndPower to solve for the sample size:"
   ]
  },
  {
   "cell_type": "code",
   "execution_count": 8,
   "id": "c5c101e0-eb9f-427c-9a7b-1b56fe1efb6d",
   "metadata": {},
   "outputs": [],
   "source": [
    "from pathlib import Path\n",
    "import random\n",
    "\n",
    "import pandas as pd\n",
    "import numpy as np\n",
    "\n",
    "from scipy import stats\n",
    "import statsmodels.api as sm\n",
    "import statsmodels.formula.api as smf\n",
    "from statsmodels.stats import power\n",
    "\n",
    "import matplotlib.pylab as plt"
   ]
  },
  {
   "cell_type": "markdown",
   "id": "4df4a67f-aa34-4af7-a0d4-cbcfa678b2b5",
   "metadata": {},
   "source": [
    "For example, suppose current click-through rates are about 1.1%, and you are seeking a 10% boost to 1.21%. \n",
    "\n",
    "So we have two boxes: box A with 1.1% ones (say, 110 ones and 9,890 zeros), and box B with 1.21% ones (say, 121 ones and 9,879 zeros)."
   ]
  },
  {
   "cell_type": "code",
   "execution_count": 24,
   "id": "fcba6297-ac4c-4d20-9671-99a94c2991cb",
   "metadata": {},
   "outputs": [
    {
     "name": "stdout",
     "output_type": "stream",
     "text": [
      "Sample Size: 116602.393\n"
     ]
    },
    {
     "data": {
      "text/plain": [
       "0.01029785095103608"
      ]
     },
     "execution_count": 24,
     "metadata": {},
     "output_type": "execute_result"
    }
   ],
   "source": [
    "# Initializing the parameters:\n",
    "current_click_through = 0.011\n",
    "sought_click_through = 0.0121\n",
    "alpha = 0.05\n",
    "power = 0.8\n",
    "\n",
    "\n",
    "# Calculate Effect Size:\n",
    "# The effect size quantifies the difference between the two proportions in terms of their standardized units.\n",
    "# This was set initially as at 10% increase, so in this case effect_size results in 0.010297\n",
    "\n",
    "effect_size = sm.stats.proportion_effectsize(sought_click_through, current_click_through)\n",
    "analysis = sm.stats.TTestIndPower()\n",
    "result = analysis.solve_power(effect_size=effect_size, \n",
    "                              alpha=alpha, power=power, alternative='larger')\n",
    "print('Sample Size: %.3f' % result)\n",
    "effect_size"
   ]
  },
  {
   "cell_type": "code",
   "execution_count": 32,
   "id": "e2c01a02-1bb6-471d-8435-5d4e04cb2e4b",
   "metadata": {},
   "outputs": [
    {
     "name": "stdout",
     "output_type": "stream",
     "text": [
      "Sample Size: 5488.408\n"
     ]
    },
    {
     "data": {
      "text/plain": [
       "0.047468188118164584"
      ]
     },
     "execution_count": 32,
     "metadata": {},
     "output_type": "execute_result"
    }
   ],
   "source": [
    "# Initializing a different set of parameters:\n",
    "current_click_through = 0.011\n",
    "sought_click_through = 0.0165\n",
    "alpha = 0.05\n",
    "power = 0.8\n",
    "\n",
    "\n",
    "# Calculate Effect Size:\n",
    "    # The effect size quantifies the difference between the two proportions in terms of their standardized units.\n",
    "    # This was set initially as at 10% increase, so in this case effect_size results in 0.0474681\n",
    "    # sm.stats.proportion_effectsize() computes this effect size using Cohen's hh formula for proportions:\n",
    "\n",
    "effect_size = sm.stats.proportion_effectsize(sought_click_through, current_click_through)\n",
    "\n",
    "\n",
    "# Initialize a Power Analysis Object:\n",
    "    # This creates an instance of TTestIndPower, which is used to perform power analysis for a two-sample t-test. \n",
    "    # While the name suggests a t-test, it's commonly used for proportions in A/B testing setups.\n",
    "\n",
    "analysis = sm.stats.TTestIndPower()\n",
    "\n",
    "# Solve for Required Sample Size:\n",
    "    # \"solve_power()\" computes the minimum sample size required to detect the specified effect size.\n",
    "    # Parameters:\n",
    "    # - effect_size: The previously calculated effect size.\n",
    "    # - alpha: The significance level (set at 0.05, allowing a 5% chance of Type I error, i.e., false positive).\n",
    "    # - power: The statistical power (set at 0.8, meaning there’s an 80% chance of detecting a true difference if it exists, minimizing Type II error).\n",
    "    # - alternative: Specifies the alternative hypothesis. 'larger' means the sought CTR is hypothesized to be larger than the current CTR.\n",
    "\n",
    "result = analysis.solve_power(effect_size=effect_size, \n",
    "                              alpha=alpha, power=power, alternative='larger')\n",
    "print('Sample Size: %.3f' % result)\n",
    "\n",
    "effect_size"
   ]
  },
  {
   "cell_type": "code",
   "execution_count": null,
   "id": "735805ef-8ede-4d48-be8e-05a5f045e828",
   "metadata": {},
   "outputs": [],
   "source": []
  }
 ],
 "metadata": {
  "kernelspec": {
   "display_name": "Python 3 (ipykernel)",
   "language": "python",
   "name": "python3"
  },
  "language_info": {
   "codemirror_mode": {
    "name": "ipython",
    "version": 3
   },
   "file_extension": ".py",
   "mimetype": "text/x-python",
   "name": "python",
   "nbconvert_exporter": "python",
   "pygments_lexer": "ipython3",
   "version": "3.11.7"
  }
 },
 "nbformat": 4,
 "nbformat_minor": 5
}
