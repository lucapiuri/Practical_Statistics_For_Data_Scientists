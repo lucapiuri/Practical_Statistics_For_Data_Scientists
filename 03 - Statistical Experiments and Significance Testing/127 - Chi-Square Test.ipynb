{
 "cells": [
  {
   "cell_type": "markdown",
   "id": "b6bb147f-e97b-49f9-8f2b-c0791c600888",
   "metadata": {},
   "source": [
    "## 127 - Chi-Square Test"
   ]
  },
  {
   "cell_type": "markdown",
   "id": "b84b82a1-2401-451d-8b30-e5b15a599084",
   "metadata": {},
   "source": [
    "### Chi-Square Test: A Resampling Approach"
   ]
  },
  {
   "cell_type": "code",
   "execution_count": 5,
   "id": "f3b92457-6e8a-4147-b3a3-43e02a625538",
   "metadata": {},
   "outputs": [],
   "source": [
    "from pathlib import Path\n",
    "import random\n",
    "\n",
    "import pandas as pd\n",
    "import numpy as np\n",
    "\n",
    "from scipy import stats\n",
    "import statsmodels.api as sm\n",
    "import statsmodels.formula.api as smf\n",
    "from statsmodels.stats import power\n",
    "\n",
    "import matplotlib.pylab as plt"
   ]
  },
  {
   "cell_type": "code",
   "execution_count": 354,
   "id": "08ab1483-191c-466f-9138-df52ce61e474",
   "metadata": {},
   "outputs": [
    {
     "name": "stdout",
     "output_type": "stream",
     "text": [
      "Headline  Headline A  Headline B  Headline C\n",
      "Click                                       \n",
      "Click             14           8          12\n",
      "No-click         986         992         988\n"
     ]
    }
   ],
   "source": [
    "click_rate = pd.read_csv(\"click_rates.csv\")\n",
    "\n",
    "clicks = click_rate.pivot(index='Click', columns='Headline', values='Rate')\n",
    "print(clicks)"
   ]
  },
  {
   "cell_type": "code",
   "execution_count": 356,
   "id": "52f4041b-5ff7-475f-8b1d-e04b93780b6e",
   "metadata": {},
   "outputs": [
    {
     "name": "stdout",
     "output_type": "stream",
     "text": [
      "We pivot the table, from:\n",
      "\n",
      "     Headline     Click  Rate\n",
      "0  Headline A     Click    14\n",
      "1  Headline A  No-click   986\n",
      "2  Headline B     Click     8\n",
      "3  Headline B  No-click   992\n",
      "4  Headline C     Click    12\n",
      "5  Headline C  No-click   988\n",
      "\n",
      "to:\n",
      "\n",
      "Headline  Headline A  Headline B  Headline C\n",
      "Click                                       \n",
      "Click             14           8          12\n",
      "No-click         986         992         988\n"
     ]
    }
   ],
   "source": [
    "print(\"We pivot the table, from:\\n\")\n",
    "print(click_rate)\n",
    "\n",
    "print(\"\\nto:\\n\")\n",
    "\n",
    "print(clicks)\n"
   ]
  },
  {
   "cell_type": "code",
   "execution_count": 358,
   "id": "f028eaac-29c6-40e2-8511-f76e3b059165",
   "metadata": {},
   "outputs": [
    {
     "name": "stdout",
     "output_type": "stream",
     "text": [
      "Tot Clicks: 34\n",
      "Tot No-Clicks: 2966\n"
     ]
    }
   ],
   "source": [
    "# Counting how many clicks and no-clicks we have:\n",
    "successes = clicks.sum(axis='columns')\n",
    "tot_clicks =  successes.iloc[0]\n",
    "tot_no_clicks = successes.iloc[1]\n",
    "\n",
    "print (\"Tot Clicks:\", tot_clicks)\n",
    "print (\"Tot No-Clicks:\", tot_no_clicks)"
   ]
  },
  {
   "cell_type": "markdown",
   "id": "97bfbdf1-444a-4e60-aafd-82f7e60775e7",
   "metadata": {},
   "source": [
    "### The resampling approach:\n",
    "\n",
    "Resampling method to calculate a chi-square test's p-value. This is a powerful technique in statistics that helps us understand if observed differences are statistically significant."
   ]
  },
  {
   "cell_type": "code",
   "execution_count": 441,
   "id": "0f947257-50a0-4a4d-b843-80a9c6dc9f4a",
   "metadata": {},
   "outputs": [
    {
     "name": "stdout",
     "output_type": "stream",
     "text": [
      "Observed chi2: 1.6659\n",
      "Resampling p-value: 0.4420\n"
     ]
    }
   ],
   "source": [
    "# Resampling approach\n",
    "\n",
    "    # \"box\" is a long list of 34x \"1s\" and 2966x \"0s\" (3000 items in total, to mimic our \"clicks\" data)\n",
    "box = [1] * tot_clicks\n",
    "box.extend([0] * tot_no_clicks)\n",
    "    # The shuffling randomizes their order.\n",
    "random.shuffle(box)\n",
    "\n",
    "\n",
    "# Chi-square Function definition ----------------------------------------------------------------------------\n",
    "\n",
    "    # This function implements the standard chi-square formula: Σ((O-E)²/E), where:\n",
    "    # - O is the observed value\n",
    "    # - E is the expected value (calculated below)\n",
    "    # - We square the differences and divide by the expected value\n",
    "    # - Finally, we sum all these terms\n",
    "\n",
    "    # The function implements Pearson's chi-square test statistic, which measures how different our observed values are \n",
    "    # from what we expected. Like measuring the \"distance\" between reality and our expectations.\n",
    " \n",
    "def chi2(observed, expected):\n",
    "    pearson_residuals = []\n",
    "    \n",
    "    # The outer loop for \"row, expect in zip(observed, expected)\" pairs each row of observations with its expected value:\n",
    "    \n",
    "    for row, expect in zip(observed, expected):\n",
    "    \n",
    "        # For each pair, the list comprehension \"[(observe - expect) ** 2 / expect for observe in row]\"\n",
    "        #calculates the Pearson residual for each observation.\n",
    "\n",
    "        # Throughout the loop, \"row\" assumes values like [14  8 12], [986 992 988], [9, 9, 16]\n",
    "        # While \"expect\" assumes 11.334 or 988.667 depending on whether it's a \"click\" or \"no-click\" row\n",
    "        # So this function compares the observed to the expected, calculates the difference, squares it and divides by the expected\n",
    "        # Following the standard chi-square formula: Σ( (O-E)²/E )\n",
    "        # and appends it to \"pearson_residuals\" list, and sum all the values at the end, and returns this Σ.\n",
    "\n",
    "        # These calculations measure how far each observed value is from its expectation, squared and scaled by the expected value. \n",
    "        # The squaring makes all differences positive and emphasizes larger deviations.\n",
    " \n",
    "        pearson_residuals.append(  [(observe - expect) ** 2 / expect for observe in row]   )\n",
    "\n",
    "    \n",
    "      \n",
    "    # return sum of squares\n",
    "    # \"np.sum(pearson_residuals)\" adds up all these individual terms to give us our chi-square statistic. \n",
    "    # A larger value indicates stronger evidence against the null hypothesis (the idea that any differences are due to chance).\n",
    "    # To help visualize this, imagine you're measuring the \"surprise factor\" of your data. \n",
    "    # Each term (O-E)²/E represents how surprised you are by a particular observation\n",
    "    # - If observed ≈ expected, you get a small number (not surprising)\n",
    "    # - If observed is very different from expected, you get a large number (very surprising)\n",
    "    # - The final sum tells you how surprised you are by the entire dataset\n",
    "    \n",
    "    return np.sum(pearson_residuals)\n",
    "\n",
    "\n",
    "## END Chi-square Function definition ----------------------------------------------------------------------------  \n",
    "\n",
    "\n",
    "    # The expected values are calculated:\n",
    "    # All values divided by 3 as we expect equal distribution across 3 groups\n",
    "    # Under the null hypothesis, we'd expect the 34 successes to be equally distributed across the three groups (about 11.33 per group).\n",
    "\n",
    "expected_clicks = tot_clicks / 3\n",
    "expected_noclicks = tot_no_clicks / 3\n",
    "expected = [expected_clicks, expected_noclicks]\n",
    "\n",
    "\n",
    "    # Here we apply the Chi-square function to calculate the observed value:\n",
    "\n",
    "chi2observed = chi2(clicks.values, expected)\n",
    "\n",
    "\n",
    "# Permutation Function ----------------------------------------------------------------------------\n",
    "\n",
    "def perm_fun(box):\n",
    "\n",
    "    # Reshuffles the box (simulating the null hypothesis where group assignment is random)\n",
    "    random.shuffle(box)\n",
    "\n",
    "    # Splits it into three groups of 1000 and\n",
    "    # Counts successes (clicks) in each group\n",
    "    \n",
    "    sample_clicks = [sum(box[0:1000]),\n",
    "                     sum(box[1000:2000]),\n",
    "                     sum(box[2000:3000])]\n",
    "\n",
    "    \n",
    "    # The list \"sample_clicks\" looks like \"[9, 10, 15], [10, 7, 17], [16, 9, 9], ... \"\n",
    "\n",
    "    # Calculates non-successes (no-clicks)\n",
    "    sample_noclicks = [1000 - n for n in sample_clicks]\n",
    "\n",
    "    # Computes the chi-square statistic for this random arrangement\n",
    "    return chi2([sample_clicks, sample_noclicks], expected)\n",
    "\n",
    "# END Permutation Function ----------------------------------------------------------------------------\n",
    "\n",
    "\n",
    "    # Executes permutation function \"perm_fun\" 2000 times\n",
    "    # return the 2000 chi-square statistic values each time, and stores in the list \"perm_chi2\"\n",
    "\n",
    "perm_chi2 = [perm_fun(box) for _ in range(2000)]\n",
    "\n",
    "\n",
    "    # The p-value is the proportion of permuted chi-square values that exceed the observed value:\n",
    "    # so we compare \"perm_chi2\" (each of the 2000 of them) to \"chi2observed\", and if it's greater, we count it as \"1\", \n",
    "    # and we do it for each of the 2000 values. Then we count how many of those 2000 resamplings gave us perm_chi2 > chi2observed \n",
    "    # (by summing the 1s), and divide by the number of resamplings (2000) to calculate the proportion. This is the p-value.\n",
    "\n",
    "    # This tells us how likely we would be to see our observed difference (or something more extreme) if the null hypothesis were true.\n",
    "\n",
    "resampled_p_value = sum(perm_chi2 > chi2observed) / len(perm_chi2)\n",
    "\n",
    "    # We print the values:\n",
    "print(f'Observed chi2: {chi2observed:.4f}')\n",
    "print(f'Resampling p-value: {resampled_p_value:.4f}')"
   ]
  },
  {
   "cell_type": "markdown",
   "id": "197d0ad6-999e-49ba-8c8d-3aacdc8732f7",
   "metadata": {},
   "source": [
    "##  Visualization of chi-square probability density functions\n"
   ]
  },
  {
   "cell_type": "code",
   "execution_count": 241,
   "id": "42778a8f-7115-4dff-a795-b3e60151adf3",
   "metadata": {},
   "outputs": [
    {
     "data": {
      "image/png": "[encoded data removed]",
      "text/plain": [
       "<Figure size 400x250 with 1 Axes>"
      ]
     },
     "metadata": {},
     "output_type": "display_data"
    }
   ],
   "source": [
    "# This code creates a visualization of chi-square probability density functions (PDFs) with different degrees of freedom. \n",
    "\n",
    "    # This creates 100 evenly spaced points between 1 and 30. Think of it as creating a ruler with 100 marks \n",
    "    # that we'll use them to generate y values and to plot our distributions.\n",
    "x = [1 + i * (30 - 1) / 99 for i in range(100)]\n",
    "\n",
    "    # This code creates a DataFrame containing the chi-square PDFs:\n",
    "\n",
    "    # For each x-value, it calculates the probability density for chi-square distributions with different \n",
    "    # degrees of freedom (df): 1, 2, 5, 10, and 20. \n",
    "    # Each \"df\" represents how many independent squared standard normal variables were added together to create that distribution.\n",
    "\n",
    "chi = pd.DataFrame({\n",
    "    'x': x,\n",
    "    'chi_1': stats.chi2.pdf(x, df=1),\n",
    "    'chi_2': stats.chi2.pdf(x, df=2),\n",
    "    'chi_5': stats.chi2.pdf(x, df=5),\n",
    "    'chi_10': stats.chi2.pdf(x, df=10),\n",
    "    'chi_20': stats.chi2.pdf(x, df=20),\n",
    "})\n",
    "\n",
    "# The plotting code creates a figure showing the distributions:\n",
    "    # We plot the points chi.x (xs) and chi.chi_\"df\" (ys)\n",
    "\n",
    "fig, ax = plt.subplots(figsize=(4, 2.5))\n",
    "ax.plot(chi.x, chi.chi_1, color='black', linestyle='-', label='1')\n",
    "ax.plot(chi.x, chi.chi_2, color='black', linestyle=(0, (1, 1)), label='2')\n",
    "ax.plot(chi.x, chi.chi_5, color='black', linestyle=(0, (2, 1)), label='5')\n",
    "ax.plot(chi.x, chi.chi_10, color='black', linestyle=(0, (3, 1)), label='10')\n",
    "ax.plot(chi.x, chi.chi_20, color='black', linestyle=(0, (4, 1)), label='20')\n",
    "ax.legend(title='df')\n",
    "\n",
    "plt.tight_layout()\n",
    "plt.show()"
   ]
  },
  {
   "cell_type": "code",
   "execution_count": 443,
   "id": "401b81b1-b330-4151-b1b9-a6a88de86a19",
   "metadata": {},
   "outputs": [
    {
     "data": {
      "text/html": [
       "<div>\n",
       "<style scoped>\n",
       "    .dataframe tbody tr th:only-of-type {\n",
       "        vertical-align: middle;\n",
       "    }\n",
       "\n",
       "    .dataframe tbody tr th {\n",
       "        vertical-align: top;\n",
       "    }\n",
       "\n",
       "    .dataframe thead th {\n",
       "        text-align: right;\n",
       "    }\n",
       "</style>\n",
       "<table border=\"1\" class=\"dataframe\">\n",
       "  <thead>\n",
       "    <tr style=\"text-align: right;\">\n",
       "      <th></th>\n",
       "      <th>x</th>\n",
       "      <th>chi_1</th>\n",
       "      <th>chi_2</th>\n",
       "      <th>chi_5</th>\n",
       "      <th>chi_10</th>\n",
       "      <th>chi_20</th>\n",
       "    </tr>\n",
       "  </thead>\n",
       "  <tbody>\n",
       "    <tr>\n",
       "      <th>0</th>\n",
       "      <td>1.000000</td>\n",
       "      <td>0.241971</td>\n",
       "      <td>0.303265</td>\n",
       "      <td>0.080657</td>\n",
       "      <td>0.000790</td>\n",
       "      <td>1.632262e-09</td>\n",
       "    </tr>\n",
       "    <tr>\n",
       "      <th>1</th>\n",
       "      <td>1.292929</td>\n",
       "      <td>0.183809</td>\n",
       "      <td>0.261947</td>\n",
       "      <td>0.102422</td>\n",
       "      <td>0.001906</td>\n",
       "      <td>1.423488e-08</td>\n",
       "    </tr>\n",
       "    <tr>\n",
       "      <th>2</th>\n",
       "      <td>1.585859</td>\n",
       "      <td>0.143355</td>\n",
       "      <td>0.226259</td>\n",
       "      <td>0.120177</td>\n",
       "      <td>0.003727</td>\n",
       "      <td>7.725957e-08</td>\n",
       "    </tr>\n",
       "    <tr>\n",
       "      <th>3</th>\n",
       "      <td>1.878788</td>\n",
       "      <td>0.113762</td>\n",
       "      <td>0.195432</td>\n",
       "      <td>0.133854</td>\n",
       "      <td>0.006341</td>\n",
       "      <td>3.068055e-07</td>\n",
       "    </tr>\n",
       "    <tr>\n",
       "      <th>4</th>\n",
       "      <td>2.171717</td>\n",
       "      <td>0.091396</td>\n",
       "      <td>0.168806</td>\n",
       "      <td>0.143685</td>\n",
       "      <td>0.009778</td>\n",
       "      <td>9.763016e-07</td>\n",
       "    </tr>\n",
       "  </tbody>\n",
       "</table>\n",
       "</div>"
      ],
      "text/plain": [
       "          x     chi_1     chi_2     chi_5    chi_10        chi_20\n",
       "0  1.000000  0.241971  0.303265  0.080657  0.000790  1.632262e-09\n",
       "1  1.292929  0.183809  0.261947  0.102422  0.001906  1.423488e-08\n",
       "2  1.585859  0.143355  0.226259  0.120177  0.003727  7.725957e-08\n",
       "3  1.878788  0.113762  0.195432  0.133854  0.006341  3.068055e-07\n",
       "4  2.171717  0.091396  0.168806  0.143685  0.009778  9.763016e-07"
      ]
     },
     "execution_count": 443,
     "metadata": {},
     "output_type": "execute_result"
    }
   ],
   "source": [
    "# Here is what the \"chi\" dataframe looks like\n",
    "chi.head()"
   ]
  },
  {
   "cell_type": "markdown",
   "id": "58ecb554-f891-428d-89b0-a222fb70fc46",
   "metadata": {},
   "source": [
    "### Chi-square using formula\n"
   ]
  },
  {
   "cell_type": "code",
   "execution_count": 446,
   "id": "70cbae1e-eb66-4212-9e94-be1a7c5182bb",
   "metadata": {},
   "outputs": [
    {
     "name": "stdout",
     "output_type": "stream",
     "text": [
      "Chi-squared statistic: 1.6659\n",
      "Degrees of freedom: 2\n",
      "P-value: 0.4348\n"
     ]
    }
   ],
   "source": [
    "import numpy as np\n",
    "from scipy import stats\n",
    "\n",
    "# Data Organization --------------------------------------------------------------------------------------\n",
    "#We arrange our data in a contingency table format (2x3):\n",
    "\n",
    "    # Rows: clicks vs no-clicks\n",
    "    # Columns: the three groups\n",
    "    # This organization helps us see the structure of our data clearly\n",
    "    \n",
    "    \n",
    "    # Let's organize our data first\n",
    "    # Assuming we had:\n",
    "    # - 34 total clicks across 3000 attempts (1000 per group)\n",
    "    # - The clicks were distributed as: 15, 10, and 9 clicks in the three groups\n",
    "    \n",
    "    # Observed values\n",
    "observed_clicks = np.array([14, 8, 12])  # array of clicks in each group\n",
    "observed_no_clicks = 1000 - observed_clicks  # array of no-clicks in each group\n",
    "\n",
    "    # Stack these into a 2x3 array (rows: clicks/no-clicks, columns: groups)\n",
    "observed = np.vstack([observed_clicks, observed_no_clicks])\n",
    "\n",
    "\n",
    "\n",
    "# Expected Values --------------------------------------------------------------------------------------\n",
    "# Under the null hypothesis (no difference between groups):\n",
    "\n",
    "    #We expect clicks to be evenly distributed (34/3 ≈ 11.33 per group)\n",
    "    #No-clicks are just the complement (1000 - 11.33 per group)\n",
    "    #These represent what we'd expect if group assignment had no effect\n",
    "\n",
    "    # Calculate expected values\n",
    "total_clicks = tot_clicks\n",
    "total_per_group = 1000\n",
    "n_groups = 3\n",
    "\n",
    "    # Under null hypothesis, expect equal distribution of clicks across groups\n",
    "\n",
    "expected_clicks = total_clicks / n_groups  # about 11.33 clicks per group\n",
    "expected_no_clicks = total_per_group - expected_clicks  # about 988.67 no-clicks per group\n",
    "\n",
    "\n",
    "# Create expected values array matching shape of observed\n",
    "expected_formula = np.array([[expected_clicks] * n_groups, \n",
    "                             [expected_no_clicks] * n_groups])\n",
    "\n",
    "# Calculate chi-squared statistic manually\n",
    "chi_squared = np.sum((observed - expected_formula)**2 / expected_formula)\n",
    "\n",
    "\n",
    "# Calculate degrees of freedom --------------------------------------------------------------------------------------\n",
    "    # For a contingency table, df = (rows-1) × (columns-1)\n",
    "    # In our case: (2-1) × (3-1) = 2\n",
    "    # This accounts for the constraints in our data\n",
    "\n",
    "df = (observed.shape[0] - 1) * (observed.shape[1] - 1)\n",
    "\n",
    "\n",
    "# P-value Calculation --------------------------------------------------------------------------------------\n",
    "    # We use the chi-square distribution with 2 df\n",
    "    # The p-value is the area in the right tail beyond our chi-square statistic\n",
    "    # A small p-value (< 0.05) would suggest the differences aren't due to chance \n",
    "\n",
    "p_value = 1 - stats.chi2.cdf(chi_squared, df)\n",
    "\n",
    "    # The key advantage of this formula approach is its theoretical foundation and computational efficiency. \n",
    "    # However, the resampling approach we saw earlier has its own benefits:\n",
    "    # - It makes fewer assumptions about the underlying distribution\n",
    "    # - It can handle small expected frequencies better\n",
    "    # - It gives us a more intuitive understanding of the null hypothesis\n",
    "\n",
    "print(f'Chi-squared statistic: {chi_squared:.4f}')\n",
    "print(f'Degrees of freedom: {df}')\n",
    "print(f'P-value: {p_value:.4f}')"
   ]
  },
  {
   "cell_type": "markdown",
   "id": "dc768feb-b6ae-461c-b5ad-382219d6ff95",
   "metadata": {},
   "source": [
    "### More detail on \"p_value = 1 - stats.chi2.cdf(chi_squared, df)\""
   ]
  },
  {
   "cell_type": "markdown",
   "id": "1f71f11c-7480-440d-a627-b79e098fcac6",
   "metadata": {},
   "source": [
    "Think of the chi-square distribution as a mathematical curve that shows all possible chi-square values and their probabilities. When we calculate our chi-square statistic (in our case, by summing all the (O-E)²/E terms), we get a single point on this curve.\n",
    "\n",
    "The p-value tells us: \"If the null hypothesis were true (no real differences between groups), what's the probability of seeing a chi-square value as extreme as, or more extreme than, what we observed?\"\n",
    "\n",
    "\n",
    "Let's understand what \"stats.chi2.cdf(chi_squared, df)\" does:\n",
    "\n",
    "cdf stands for Cumulative Distribution Function\n",
    "\n",
    "For any value x, the CDF tells us the probability of getting a chi-square value less than or equal to x\n",
    "\n",
    "The df parameter shapes the distribution based on our degrees of freedom\n",
    "\n",
    "--------------------------------------\n",
    "#### So why do we subtract from 1?\n",
    "\n",
    "Imagine our calculated chi-square statistic is 7.5. The CDF would give us the probability of getting a value less than 7.5. \n",
    "\n",
    "But for our p-value, we want the opposite: the probability of getting a value greater than 7.5. \n",
    "\n",
    "Since all probabilities must sum to 1, we can subtract the CDF from 1 to get this \"tail probability.\"\n",
    "\n",
    "Think of it like this: if you have a ruler marked from 0 to ∞, and you've found your chi-square value on that ruler:\n",
    "\n",
    "\n",
    "#### CDF\n",
    "The CDF tells you \"what fraction of the distribution lies to the left of your mark\"\n",
    "Subtracting from 1 gives you \"what fraction lies to the right\"\n",
    "This right-hand fraction is your p-value\n",
    "\n",
    "The reason we care about the right tail is that larger chi-square values indicate stronger evidence against the null hypothesis. Our p-value tells us how unusual our result would be if the null hypothesis were true.\n",
    "As practical interpretation:\n",
    "\n",
    "- If p < 0.05: We typically consider this \"statistically significant\"\n",
    "- If p > 0.05: We don't have strong evidence against the null hypothesis\n",
    "- The smaller the p-value, the stronger the evidence against the null hypothesis\n",
    "\n"
   ]
  },
  {
   "cell_type": "markdown",
   "id": "493f39e8-6a20-45b9-8279-af9e152ca526",
   "metadata": {},
   "source": [
    "## Visualization\n",
    "\n",
    "This code creates a visualization that shows several important elements:\n",
    "\n",
    "- The blue curve represents the chi-square distribution with our specified degrees of freedom\n",
    "- The red dashed line shows our test statistic (7.5 in this example)\n",
    "- The light blue area shows the probability of values less than our test statistic\n",
    "- The red shaded area represents our p-value - the probability of getting a value as extreme as or more extreme than our test statistic\n",
    "\n",
    "To use this code with different values, you can simply change the chi_squared_value and df parameters. For example, if you wanted to see how it looks with different degrees of freedom or a different test statistic:"
   ]
  },
  {
   "cell_type": "code",
   "execution_count": 439,
   "id": "4f6dae10-d848-4aa6-af4c-ec813f3d81ac",
   "metadata": {},
   "outputs": [
    {
     "data": {
      "image/png": "[encoded data removed]",
      "text/plain": [
       "<Figure size 1000x600 with 1 Axes>"
      ]
     },
     "metadata": {},
     "output_type": "display_data"
    }
   ],
   "source": [
    "import numpy as np\n",
    "import matplotlib.pyplot as plt\n",
    "from scipy import stats\n",
    "\n",
    "# Chi-Square Plot Function Definition ----------------------------------------------------------------------------------------------------\n",
    "\n",
    "def plot_chi_square_test(chi_squared_value, df, figsize=(10, 6)):\n",
    "    \"\"\"\n",
    "    Create a visualization of chi-square distribution showing test statistic and p-value.\n",
    "    \n",
    "    Parameters:\n",
    "    chi_squared_value: The calculated chi-square test statistic\n",
    "    df: Degrees of freedom for the chi-square distribution\n",
    "    figsize: Size of the figure (width, height)\n",
    "    \"\"\"\n",
    "    \n",
    "    # Create the figure and axis\n",
    "    plt.figure(figsize=figsize)\n",
    "    \n",
    "    # Generate x values for plotting\n",
    "    # We'll go up to a value that captures most of the distribution\n",
    "    x = np.linspace(0, max(chi_squared_value * 2, stats.chi2.ppf(0.999, df)), 1000)\n",
    "    \n",
    "    # Calculate the chi-square distribution\n",
    "    chi_square_dist = stats.chi2.pdf(x, df)\n",
    "    \n",
    "    # Calculate p-value\n",
    "    p_value = 1 - stats.chi2.cdf(chi_squared_value, df)\n",
    "    \n",
    "    # Create the main plot\n",
    "    plt.plot(x, chi_square_dist, 'b-', lw=2, label=f'χ²({df} df)')\n",
    "    \n",
    "    # Fill the areas for visual understanding\n",
    "    # Area left of test statistic\n",
    "    plt.fill_between(x[x <= chi_squared_value], chi_square_dist[x <= chi_squared_value], \n",
    "                     color='lightblue', alpha=0.5)\n",
    "    \n",
    "    # Area right of test statistic (p-value)\n",
    "    plt.fill_between(x[x >= chi_squared_value], chi_square_dist[x >= chi_squared_value],\n",
    "                     color='red', alpha=0.3, label=f'p-value = {p_value:.4f}')\n",
    "    \n",
    "    # Add vertical line for test statistic\n",
    "    plt.axvline(x=chi_squared_value, color='r', linestyle='--', \n",
    "                label=f'Test statistic = {chi_squared_value:.2f}')\n",
    "    \n",
    "    # Customize the plot\n",
    "    plt.title('Chi-square Distribution and P-value Visualization', pad=20)\n",
    "    plt.xlabel('Chi-square value')\n",
    "    plt.ylabel('Probability Density')\n",
    "    \n",
    "    # Add explanatory text\n",
    "    text_x = max(x) * 0.6\n",
    "    text_y = max(chi_square_dist) * 0.8\n",
    "    plt.text(text_x, text_y, \n",
    "             f'df = {df}\\nχ² = {chi_squared_value:.2f}\\np-value = {p_value:.4f}',\n",
    "             bbox=dict(facecolor='white', alpha=0.8))\n",
    "    \n",
    "    # Add legend\n",
    "    plt.legend()\n",
    "    \n",
    "    # Ensure all elements are visible\n",
    "    plt.tight_layout()\n",
    "    \n",
    "    return plt\n",
    "\n",
    "# Example usage with our previous chi-square test values\n",
    "chi_squared_value = chi_squared  # Our test statistic from the previous exercise\n",
    "df = 2                  # Degrees of freedom, from the previous exercise\n",
    "\n",
    "# Create and display the plot\n",
    "plot = plot_chi_square_test(chi_squared_value, df)\n",
    "plt.show()"
   ]
  },
  {
   "cell_type": "code",
   "execution_count": 437,
   "id": "ad27afb4-b729-4703-82f9-5d267da6370c",
   "metadata": {},
   "outputs": [
    {
     "data": {
      "text/plain": [
       "1.6659394708658917"
      ]
     },
     "execution_count": 437,
     "metadata": {},
     "output_type": "execute_result"
    }
   ],
   "source": [
    "chi_squared"
   ]
  },
  {
   "cell_type": "markdown",
   "id": "cd5a9373-079b-4b91-8ba1-64bf62560f0e",
   "metadata": {},
   "source": [
    "### Fisher's Exact Test\n",
    "\n",
    "Scipy has only an implementation of Fisher's Exact test for 2x2 matrices. There is a github repository that provides a Python implementation that uses the same code as the R version. Installing this requires a Fortran compiler.\n",
    "\n",
    "stats.fisher_exact(clicks)\n",
    "\n",
    "BUT: The input `table` must be of shape (2, 2).\n",
    "There is no implementation of Fisher’s exact test easily available in Python.\n",
    "\n"
   ]
  },
  {
   "cell_type": "code",
   "execution_count": null,
   "id": "67d0f82f-d0ea-4baf-9796-5dcf329bb57c",
   "metadata": {},
   "outputs": [],
   "source": []
  }
 ],
 "metadata": {
  "kernelspec": {
   "display_name": "Python 3 (ipykernel)",
   "language": "python",
   "name": "python3"
  },
  "language_info": {
   "codemirror_mode": {
    "name": "ipython",
    "version": 3
   },
   "file_extension": ".py",
   "mimetype": "text/x-python",
   "name": "python",
   "nbconvert_exporter": "python",
   "pygments_lexer": "ipython3",
   "version": "3.11.7"
  }
 },
 "nbformat": 4,
 "nbformat_minor": 5
}
