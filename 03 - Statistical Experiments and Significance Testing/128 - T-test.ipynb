{
 "cells": [
  {
   "cell_type": "markdown",
   "id": "68d8807b-ed14-4709-a453-36b71b4b194b",
   "metadata": {},
   "source": [
    "## t-test\n",
    "The code performs a two-sample t-test and calculates a one-sided p-value.\n",
    "This code is using SciPy's stats module to compare session times between two different pages (Page A and Page B).\n",
    "\n",
    "A t-test is a statistical test that helps us determine if there's a significant difference between the means of two groups. In this case, we're comparing the time users spend on Page A versus Page B.\n",
    "\n",
    "a t-test is a statistical test that helps us determine if there's a significant difference between the means of two groups. In this case, we're comparing the time users spend on Page A versus Page B."
   ]
  },
  {
   "cell_type": "code",
   "execution_count": 1,
   "id": "b1325f15-6c64-47d2-a27b-0c9ffc1a9468",
   "metadata": {},
   "outputs": [],
   "source": [
    "from pathlib import Path\n",
    "import random\n",
    "\n",
    "import pandas as pd\n",
    "import numpy as np\n",
    "\n",
    "from scipy import stats\n",
    "import statsmodels.api as sm\n",
    "import statsmodels.formula.api as smf\n",
    "from statsmodels.stats import power\n",
    "\n",
    "import matplotlib.pylab as plt"
   ]
  },
  {
   "cell_type": "code",
   "execution_count": 13,
   "id": "efeebdeb-d004-493e-8995-ccdf027b3ad2",
   "metadata": {},
   "outputs": [
    {
     "data": {
      "text/html": [
       "<div>\n",
       "<style scoped>\n",
       "    .dataframe tbody tr th:only-of-type {\n",
       "        vertical-align: middle;\n",
       "    }\n",
       "\n",
       "    .dataframe tbody tr th {\n",
       "        vertical-align: top;\n",
       "    }\n",
       "\n",
       "    .dataframe thead th {\n",
       "        text-align: right;\n",
       "    }\n",
       "</style>\n",
       "<table border=\"1\" class=\"dataframe\">\n",
       "  <thead>\n",
       "    <tr style=\"text-align: right;\">\n",
       "      <th></th>\n",
       "      <th>Page</th>\n",
       "      <th>Time</th>\n",
       "    </tr>\n",
       "  </thead>\n",
       "  <tbody>\n",
       "    <tr>\n",
       "      <th>0</th>\n",
       "      <td>Page A</td>\n",
       "      <td>0.21</td>\n",
       "    </tr>\n",
       "    <tr>\n",
       "      <th>1</th>\n",
       "      <td>Page B</td>\n",
       "      <td>2.53</td>\n",
       "    </tr>\n",
       "    <tr>\n",
       "      <th>2</th>\n",
       "      <td>Page A</td>\n",
       "      <td>0.35</td>\n",
       "    </tr>\n",
       "    <tr>\n",
       "      <th>3</th>\n",
       "      <td>Page B</td>\n",
       "      <td>0.71</td>\n",
       "    </tr>\n",
       "    <tr>\n",
       "      <th>4</th>\n",
       "      <td>Page A</td>\n",
       "      <td>0.67</td>\n",
       "    </tr>\n",
       "  </tbody>\n",
       "</table>\n",
       "</div>"
      ],
      "text/plain": [
       "     Page  Time\n",
       "0  Page A  0.21\n",
       "1  Page B  2.53\n",
       "2  Page A  0.35\n",
       "3  Page B  0.71\n",
       "4  Page A  0.67"
      ]
     },
     "execution_count": 13,
     "metadata": {},
     "output_type": "execute_result"
    }
   ],
   "source": [
    "session_times = pd.read_csv('web_page_data.csv')\n",
    "session_times.head()"
   ]
  },
  {
   "cell_type": "code",
   "execution_count": 29,
   "id": "fdad0587-10ae-4239-bb70-a1f190ca2807",
   "metadata": {},
   "outputs": [
    {
     "name": "stdout",
     "output_type": "stream",
     "text": [
      "p-value for single sided test: 0.1408\n"
     ]
    }
   ],
   "source": [
    "\n",
    "    # Splitting the data into two groups using their \"Page\" index, storing all the \"Time\" values in an dataframe for each page:\n",
    "\n",
    "group_a = session_times[session_times.Page == 'Page A'].Time  # Time values for Page A\n",
    "group_b = session_times[session_times.Page == 'Page B'].Time  # Time values for Page B\n",
    "\n",
    "\n",
    "# With SciPy module\n",
    "\n",
    "    # Performing the t-test\n",
    "    # The \"ttest_ind\" function performs an independent t-test, with these key parameters:\n",
    "    #  - The first two arguments are the time values for each group we're comparing\n",
    "    #  - equal_var=False tells the function to use Welch's t-test, which doesn't assume equal variances between groups \n",
    "    #    (this is generally safer than the standard t-test)\n",
    "\n",
    "res = stats.ttest_ind(group_a, group_b, equal_var=False)\n",
    "\n",
    "    \n",
    "    # This converts the two-sided p-value to a one-sided p-value by dividing by 2. This is important because\n",
    "    # a two-sided test looks for differences in either direction (A > B or A < B)\n",
    "    # A one-sided test looks for differences in only one direction (e.g., only testing if A > B)\n",
    "    # We divide by 2 because if we're only interested in one direction, we only need half of the two-sided p-value\n",
    "\n",
    "    # The resulting p-value tells us the probability of seeing such extreme differences between the groups \n",
    "    # if there were truly no underlying difference. \n",
    "    # A small p-value (typically < 0.05) suggests the difference between pages is statistically significant.\n",
    "\n",
    "print(f'p-value for single sided test: {res.pvalue / 2:.4f}')\n"
   ]
  },
  {
   "cell_type": "code",
   "execution_count": 33,
   "id": "1b52f801-86da-47a8-aafd-2d3462ff28cb",
   "metadata": {},
   "outputs": [
    {
     "name": "stdout",
     "output_type": "stream",
     "text": [
      "p-value: 0.1408\n"
     ]
    }
   ],
   "source": [
    "        # With StatsModel module (this returns 3 values)\n",
    "     \n",
    "    # The most significant difference is how the one-sided test is handled. \n",
    "    # In the previous SciPy version, we had to manually divide the p-value by 2 to get a one-sided result. \n",
    "    # Here, statsmodels provides a more explicit way to specify this through the alternative='smaller' parameter. \n",
    "    # This parameter tells the function we're specifically testing if Page A times are smaller than Page B times.\n",
    "    \n",
    "    # The usevar='unequal' parameter serves the same purpose as equal_var=False did in the SciPy version – \n",
    "    # it tells the function to use Welch's t-test, which doesn't assume equal variances between the groups. \n",
    "    # This is generally considered a safer choice since real-world data often has different variances between groups.\n",
    "\n",
    "    # The main advantage of the statsmodels version is that it's more explicit about what you're testing – \n",
    "    # instead of having to remember to divide by 2 for a one-sided test, \n",
    "    # you can directly specify what you're looking for through the alternative parameter. \n",
    "    # This makes the code more self-documenting and less prone to errors.\n",
    "\n",
    "tstat, pvalue, df = sm.stats.ttest_ind(\n",
    "    session_times[session_times.Page == 'Page A'].Time, \n",
    "    session_times[session_times.Page == 'Page B'].Time,\n",
    "    usevar='unequal', alternative='smaller')\n",
    "print(f'p-value: {pvalue:.4f}')"
   ]
  },
  {
   "cell_type": "code",
   "execution_count": 21,
   "id": "50437fba-7d77-49db-8920-d2cbf7fbbdab",
   "metadata": {},
   "outputs": [
    {
     "data": {
      "text/plain": [
       "pandas.core.series.Series"
      ]
     },
     "execution_count": 21,
     "metadata": {},
     "output_type": "execute_result"
    }
   ],
   "source": []
  },
  {
   "cell_type": "code",
   "execution_count": null,
   "id": "999b19a1-4c8c-4226-a120-77a2539063d5",
   "metadata": {},
   "outputs": [],
   "source": []
  }
 ],
 "metadata": {
  "kernelspec": {
   "display_name": "Python 3 (ipykernel)",
   "language": "python",
   "name": "python3"
  },
  "language_info": {
   "codemirror_mode": {
    "name": "ipython",
    "version": 3
   },
   "file_extension": ".py",
   "mimetype": "text/x-python",
   "name": "python",
   "nbconvert_exporter": "python",
   "pygments_lexer": "ipython3",
   "version": "3.11.7"
  }
 },
 "nbformat": 4,
 "nbformat_minor": 5
}
