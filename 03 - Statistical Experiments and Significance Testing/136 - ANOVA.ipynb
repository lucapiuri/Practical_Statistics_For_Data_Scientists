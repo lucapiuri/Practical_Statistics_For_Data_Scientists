{
 "cells": [
  {
   "cell_type": "markdown",
   "id": "d9d41759-2c56-4ee8-8299-91c41d8a44dd",
   "metadata": {},
   "source": [
    "## 136 - ANOVA"
   ]
  },
  {
   "cell_type": "markdown",
   "id": "02103726-e742-40e6-8372-004a02328696",
   "metadata": {},
   "source": [
    "The statistical procedure that tests for a statistically significant difference among the groups is called analysis of variance, or ANOVA.\n"
   ]
  },
  {
   "cell_type": "code",
   "execution_count": 5,
   "id": "1bc1f805-9764-4a26-960a-813f99fe8c0d",
   "metadata": {},
   "outputs": [],
   "source": [
    "from pathlib import Path\n",
    "import random\n",
    "\n",
    "import pandas as pd\n",
    "import numpy as np\n",
    "\n",
    "from scipy import stats\n",
    "import statsmodels.api as sm\n",
    "import statsmodels.formula.api as smf\n",
    "from statsmodels.stats import power\n",
    "\n",
    "import matplotlib.pylab as plt"
   ]
  },
  {
   "cell_type": "code",
   "execution_count": 17,
   "id": "523dd904-f196-4a76-9ef7-ef3f5887b81d",
   "metadata": {},
   "outputs": [
    {
     "data": {
      "text/html": [
       "<div>\n",
       "<style scoped>\n",
       "    .dataframe tbody tr th:only-of-type {\n",
       "        vertical-align: middle;\n",
       "    }\n",
       "\n",
       "    .dataframe tbody tr th {\n",
       "        vertical-align: top;\n",
       "    }\n",
       "\n",
       "    .dataframe thead th {\n",
       "        text-align: right;\n",
       "    }\n",
       "</style>\n",
       "<table border=\"1\" class=\"dataframe\">\n",
       "  <thead>\n",
       "    <tr style=\"text-align: right;\">\n",
       "      <th></th>\n",
       "      <th>Page</th>\n",
       "      <th>Time</th>\n",
       "    </tr>\n",
       "  </thead>\n",
       "  <tbody>\n",
       "    <tr>\n",
       "      <th>0</th>\n",
       "      <td>Page 1</td>\n",
       "      <td>164</td>\n",
       "    </tr>\n",
       "    <tr>\n",
       "      <th>1</th>\n",
       "      <td>Page 2</td>\n",
       "      <td>178</td>\n",
       "    </tr>\n",
       "    <tr>\n",
       "      <th>2</th>\n",
       "      <td>Page 3</td>\n",
       "      <td>175</td>\n",
       "    </tr>\n",
       "    <tr>\n",
       "      <th>3</th>\n",
       "      <td>Page 4</td>\n",
       "      <td>155</td>\n",
       "    </tr>\n",
       "    <tr>\n",
       "      <th>4</th>\n",
       "      <td>Page 1</td>\n",
       "      <td>172</td>\n",
       "    </tr>\n",
       "    <tr>\n",
       "      <th>5</th>\n",
       "      <td>Page 2</td>\n",
       "      <td>191</td>\n",
       "    </tr>\n",
       "    <tr>\n",
       "      <th>6</th>\n",
       "      <td>Page 3</td>\n",
       "      <td>193</td>\n",
       "    </tr>\n",
       "    <tr>\n",
       "      <th>7</th>\n",
       "      <td>Page 4</td>\n",
       "      <td>166</td>\n",
       "    </tr>\n",
       "    <tr>\n",
       "      <th>8</th>\n",
       "      <td>Page 1</td>\n",
       "      <td>177</td>\n",
       "    </tr>\n",
       "    <tr>\n",
       "      <th>9</th>\n",
       "      <td>Page 2</td>\n",
       "      <td>182</td>\n",
       "    </tr>\n",
       "    <tr>\n",
       "      <th>10</th>\n",
       "      <td>Page 3</td>\n",
       "      <td>171</td>\n",
       "    </tr>\n",
       "    <tr>\n",
       "      <th>11</th>\n",
       "      <td>Page 4</td>\n",
       "      <td>164</td>\n",
       "    </tr>\n",
       "    <tr>\n",
       "      <th>12</th>\n",
       "      <td>Page 1</td>\n",
       "      <td>156</td>\n",
       "    </tr>\n",
       "    <tr>\n",
       "      <th>13</th>\n",
       "      <td>Page 2</td>\n",
       "      <td>185</td>\n",
       "    </tr>\n",
       "    <tr>\n",
       "      <th>14</th>\n",
       "      <td>Page 3</td>\n",
       "      <td>163</td>\n",
       "    </tr>\n",
       "    <tr>\n",
       "      <th>15</th>\n",
       "      <td>Page 4</td>\n",
       "      <td>170</td>\n",
       "    </tr>\n",
       "    <tr>\n",
       "      <th>16</th>\n",
       "      <td>Page 1</td>\n",
       "      <td>195</td>\n",
       "    </tr>\n",
       "    <tr>\n",
       "      <th>17</th>\n",
       "      <td>Page 2</td>\n",
       "      <td>177</td>\n",
       "    </tr>\n",
       "    <tr>\n",
       "      <th>18</th>\n",
       "      <td>Page 3</td>\n",
       "      <td>176</td>\n",
       "    </tr>\n",
       "    <tr>\n",
       "      <th>19</th>\n",
       "      <td>Page 4</td>\n",
       "      <td>168</td>\n",
       "    </tr>\n",
       "  </tbody>\n",
       "</table>\n",
       "</div>"
      ],
      "text/plain": [
       "      Page  Time\n",
       "0   Page 1   164\n",
       "1   Page 2   178\n",
       "2   Page 3   175\n",
       "3   Page 4   155\n",
       "4   Page 1   172\n",
       "5   Page 2   191\n",
       "6   Page 3   193\n",
       "7   Page 4   166\n",
       "8   Page 1   177\n",
       "9   Page 2   182\n",
       "10  Page 3   171\n",
       "11  Page 4   164\n",
       "12  Page 1   156\n",
       "13  Page 2   185\n",
       "14  Page 3   163\n",
       "15  Page 4   170\n",
       "16  Page 1   195\n",
       "17  Page 2   177\n",
       "18  Page 3   176\n",
       "19  Page 4   168"
      ]
     },
     "execution_count": 17,
     "metadata": {},
     "output_type": "execute_result"
    }
   ],
   "source": [
    "four_sessions = pd.read_csv('four_sessions.csv')\n",
    "\n",
    "    # The file shows the stickiness of four web pages, defined as the number of seconds a visitor spent on the page\n",
    "    # There are a total of five visitors for each page, and each column is an independent set of data.\n",
    "four_sessions"
   ]
  },
  {
   "cell_type": "markdown",
   "id": "aba4ed39-761b-4f9a-b704-45f3405198f1",
   "metadata": {},
   "source": [
    "The more \"pairwise\" comparisons we make, the greater the potential for being fooled by random chance.\n",
    "\n",
    "We can do a single overall test that addresses the question, “Could all the pages have the same underlying stickiness, and the differences among them be due to the ran‐ dom way in which a common set of session times got allocated among the four pages?”\n",
    "\n",
    "The procedure used to test this is ANOVA. The basis for it can be seen in the following resampling procedure \n",
    "(specified here for the A/B/C/D test of web page stickiness):\n",
    "1. Combine all the data together in a single box.\n",
    "2. Shuffle and draw out four resamples of five values each.\n",
    "3. Record the mean of each of the four groups.\n",
    "4. Record the variance among the four group means.\n",
    "5. Repeat steps 2–4 many (say, 1,000) times.\n",
    "\n",
    "What proportion of the time did the resampled variance exceed the observed var‐ iance? This is the p-value."
   ]
  },
  {
   "cell_type": "code",
   "execution_count": 22,
   "id": "42a18dd1-97a8-41af-bddb-92b0e71db4d6",
   "metadata": {},
   "outputs": [
    {
     "data": {
      "image/png": "[encoded data removed]",
      "text/plain": [
       "<Figure size 400x400 with 1 Axes>"
      ]
     },
     "metadata": {},
     "output_type": "display_data"
    }
   ],
   "source": [
    "ax = four_sessions.boxplot(by='Page', column='Time',\n",
    "                           figsize=(4, 4))\n",
    "ax.set_xlabel('Page')\n",
    "ax.set_ylabel('Time (in seconds)')\n",
    "plt.suptitle('')\n",
    "plt.title('')\n",
    "\n",
    "plt.tight_layout()\n",
    "plt.show()\n"
   ]
  },
  {
   "cell_type": "code",
   "execution_count": 60,
   "id": "90a30306-9a12-43eb-8c1c-1f7d6ade759e",
   "metadata": {},
   "outputs": [
    {
     "name": "stdout",
     "output_type": "stream",
     "text": [
      "Observed means: [172.8 182.6 175.6 164.6]\n",
      "Variance: 55.426666666666655\n"
     ]
    }
   ],
   "source": [
    "    # This line calculates the variance between different page means:\n",
    "\n",
    "    # four_sessions.groupby('Page') groups the data by different pages\n",
    "    # .mean() calculates the mean 'Time' for each page\n",
    "    # .var() then calculates how much these means vary from each other:\n",
    "    # (aka the variance: calculate the mean of those means, then for each value subtracts that mean, \n",
    "    # squares result and takes the avg of all squared differences)\n",
    "    # .iloc[0] selects the first (and only) variance value\n",
    "\n",
    "observed_variance = four_sessions.groupby('Page').mean().var().iloc[0]\n",
    "\n",
    "    # Print the actual means for each page and the variance we calculated:\n",
    "    # .values converts a pandas DataFrame or Series into a numpy array\n",
    "    # .ravel() takes that array and flattens it into a 1-dimensional array\n",
    "\n",
    "print('Observed means:', four_sessions.groupby('Page').mean().values.ravel())\n",
    "\n",
    "print('Variance:', observed_variance)\n"
   ]
  },
  {
   "cell_type": "markdown",
   "id": "f1c1955b-4762-4096-8c13-e0920832b360",
   "metadata": {},
   "source": [
    "The \"perm_test\" function implements a key part of permutation testing. The idea is to simulate what the variance between page means would look like if there were no real relationship between pages and times. It does this by:\n",
    "\n",
    "1) Making a copy of the dataframe to avoid modifying the original data\n",
    "2) Randomly shuffling all the 'Time' values while keeping the 'Page' labels in place\n",
    "3) Recalculating the variance between page means with this shuffled data\n",
    "\n",
    "This is a powerful way to test whether the differences we observe between pages are meaningful or could have occurred by chance. If we run this permutation test many times and rarely see variances as large as our observed variance, it suggests the page differences are significant.\n",
    "Think of it like shuffling a deck of cards: if you shuffle the times randomly across pages many times, how often would you see differences as large as what you actually observed? If it's rare, that suggests the original differences are meaningful rather than random chance.\n",
    "\n",
    "\n",
    "The key point is that all the same Time values are still there, just randomly reassigned to different Pages. This is crucial for permutation testing because:\n",
    "\n",
    "We keep all the same Time values (preserving the overall distribution)\n",
    "But we break any potential relationship between Pages and Times by randomly shuffling\n",
    "This helps us test if the original Page-Time relationship was meaningful or could have occurred by chance"
   ]
  },
  {
   "cell_type": "code",
   "execution_count": 115,
   "id": "ab78a9d9-6ba9-43f8-ade4-d8f9e7f34536",
   "metadata": {},
   "outputs": [
    {
     "name": "stdout",
     "output_type": "stream",
     "text": [
      "9.080000000000014\n"
     ]
    }
   ],
   "source": [
    "# We define a function fot the permutation:\n",
    "\n",
    "def perm_test(df):\n",
    "    df = df.copy()\n",
    "\n",
    "    # df['Time'] selects the Time column from your dataframe\n",
    "    # .values converts it to a numpy array\n",
    "    # np.random.permutation() randomly shuffles all these values\n",
    "    \n",
    "    df['Time'] = np.random.permutation(df['Time'].values)\n",
    "\n",
    "    # Recalculates the variance between page means with this shuffled data and returns\n",
    "    \n",
    "    return df.groupby('Page').mean().var().iloc[0]\n",
    "print(perm_test(four_sessions))\n"
   ]
  },
  {
   "cell_type": "code",
   "execution_count": 159,
   "id": "fb7bbff9-54df-484e-9fa7-53cc0d085a94",
   "metadata": {},
   "outputs": [
    {
     "name": "stdout",
     "output_type": "stream",
     "text": [
      "p-value 0.08033333333333334\n"
     ]
    },
    {
     "data": {
      "image/png": "[encoded data removed]",
      "text/plain": [
       "<Figure size 500x500 with 1 Axes>"
      ]
     },
     "metadata": {},
     "output_type": "display_data"
    }
   ],
   "source": [
    "# Now we perform the function 3000 times:\n",
    "\n",
    "    # Sets a random seed for reproducibility\n",
    "random.seed(1) \n",
    "\n",
    "    \n",
    "    # This creates a list of 3000 permuted variances. For each iteration:\n",
    "    # It runs perm_test() which randomly shuffles the Time values\n",
    "    # Calculates the variance between page means for that shuffle\n",
    "    # Stores each variance in the list\n",
    "\n",
    "perm_variance = [perm_test(four_sessions) for _ in range(3000)]\n",
    "\n",
    "# Calculating the P-value (by checking how many of those 3000 values are above the one we found)\n",
    "\n",
    "    # [var > observed_variance for var in perm_variance] creates a list of True/False values\n",
    "    # Each True means that permuted variance was larger than what we actually observed\n",
    "    # np.mean() gives us the proportion of permutations that exceeded our observed variance\n",
    "    # This is our p-value - the probability of seeing such large differences between pages by chance\n",
    "\n",
    "p_value = (np.mean([var > observed_variance for var in perm_variance]))\n",
    "\n",
    "print('p-value', p_value)\n",
    "\n",
    "\n",
    "# Visualization:\n",
    "\n",
    "    # This creates a histogram showing:\n",
    "    # Distribution of variances we got from random permutations\n",
    "    # A vertical line showing where our actual observed variance falls\n",
    "    # If the observed variance is far to the right of most permuted variances, it suggests the page differences are significant\n",
    "    # This is a visual way to see how unusual our observed variance is compared to what we'd expect by chance.\n",
    "\n",
    "fig, ax = plt.subplots(figsize=(5, 5))\n",
    "ax.hist(perm_variance, bins=11, rwidth=0.9)  # Creates histogram of permuted variances\n",
    "ax.axvline(x = observed_variance, color='black', lw=2) # Adds vertical line for observed variance\n",
    "ax.text(60, 200, 'Observed\\nvariance', bbox={'facecolor':'white'}) # Labels the line\n",
    "ax.set_xlabel('Variance')\n",
    "ax.set_ylabel('Frequency')\n",
    "\n",
    "plt.tight_layout()\n",
    "plt.show()\n",
    "\n"
   ]
  },
  {
   "cell_type": "markdown",
   "id": "4b696369-1974-4b0e-aa47-bf46bc36c360",
   "metadata": {},
   "source": [
    "The p-value, given by Pr(Prob), is 0.09278(or similar). In other words, given the same underly‐ ing stickiness, 9.3% of the time the response rate among four pages might differ as much as was actually observed, just by chance. This degree of improbability falls short of the traditional statistical threshold of 5%, so we conclude that the difference among the four pages could have arisen by chance."
   ]
  },
  {
   "cell_type": "code",
   "execution_count": 128,
   "id": "1cd325d6-c998-4f17-8ece-c7ace6d4479c",
   "metadata": {},
   "outputs": [
    {
     "data": {
      "text/plain": [
       "3000"
      ]
     },
     "execution_count": 128,
     "metadata": {},
     "output_type": "execute_result"
    }
   ],
   "source": [
    "len(perm_variance)"
   ]
  },
  {
   "cell_type": "markdown",
   "id": "8eed458b-96f0-484c-8437-f19632fb87d1",
   "metadata": {},
   "source": [
    "## Traditional ANOVA\n",
    "\n",
    "Traditional ANOVA (Analysis of Variance) is the classical statistical method that uses F-tests to compare means between groups. Here's the key difference:\n",
    "\n",
    "Permutation Test (what we just did):\n",
    "- Randomly shuffles the data many times\n",
    "- Calculates how often random shuffling produces differences as extreme as what we observed\n",
    "- Makes no assumptions about the data's distribution\n",
    "- The p-value is directly calculated from the proportion of permutations that exceed our observed value\n",
    "\n",
    "\n",
    "Traditional ANOVA:\n",
    "- Uses the F-statistic (ratio of between-group variance to within-group variance)\n",
    "- Assumes the data follows a normal distribution\n",
    "- Assumes equal variances between groups (homoscedasticity)\n",
    "- P-value is calculated using the F-distribution\n",
    "\n",
    "The permutation test we did is more flexible because it doesn't make assumptions about the data's distribution, but it requires more computational power since we need to run many permutations."
   ]
  },
  {
   "cell_type": "code",
   "execution_count": 172,
   "id": "6495dc33-ab99-47fe-b6a2-2d295c30549f",
   "metadata": {},
   "outputs": [
    {
     "name": "stdout",
     "output_type": "stream",
     "text": [
      "p-value: 0.0775862152580146\n",
      "f-statistic: 2.739825341901467\n"
     ]
    }
   ],
   "source": [
    "# The traditional ANOVA in Python would look something like this:\n",
    "\n",
    "from scipy import stats\n",
    "\n",
    "# Assuming four_sessions has 'Page' and 'Time' columns\n",
    "groups = [group['Time'].values for name, group in four_sessions.groupby('Page')]\n",
    "f_statistic, p_value = stats.f_oneway(*groups)\n",
    "\n",
    "print(\"p-value:\", p_value)\n",
    "print(\"f-statistic:\", f_statistic)"
   ]
  },
  {
   "cell_type": "markdown",
   "id": "433f555a-54f5-4209-ad1f-7e096f3696a5",
   "metadata": {},
   "source": [
    "## F-Statistic\n",
    "\n",
    "We can compute an ANOVA table using statsmodel."
   ]
  },
  {
   "cell_type": "markdown",
   "id": "ebc0672e-b7cd-4f52-b842-a8068eb76b64",
   "metadata": {},
   "source": [
    "### F-Statistic ANOVA using statsmodels"
   ]
  },
  {
   "cell_type": "code",
   "execution_count": 174,
   "id": "1c5690d7-f77b-4406-97fd-7c9924c2fe73",
   "metadata": {},
   "outputs": [
    {
     "name": "stdout",
     "output_type": "stream",
     "text": [
      "            df  sum_sq     mean_sq         F    PR(>F)\n",
      "Page       3.0   831.4  277.133333  2.739825  0.077586\n",
      "Residual  16.0  1618.4  101.150000       NaN       NaN\n"
     ]
    }
   ],
   "source": [
    "# F-Statistic ANOVA using statsmodels:\n",
    "\n",
    "    # smf.ols() creates an Ordinary Least Squares model where 'Time' is predicted by 'Page'\n",
    "    # The formula 'Time ~ Page' means we're testing how 'Time' is affected by 'Page' \n",
    "\n",
    "model = smf.ols('Time ~ Page', data=four_sessions).fit()\n",
    "\n",
    "\n",
    "    # anova_lm() performs a one-way ANOVA on this fitted model\n",
    "aov_table = sm.stats.anova_lm(model)\n",
    "\n",
    "\n",
    "    # This prints a full ANOVA table with sums of squares, degrees of freedom, F-statistic, etc.\n",
    "print(aov_table)\n",
    "\n",
    "# PR(>F) = p-value associated with the F-statistic for the hypothesis test.\n",
    "\n",
    "\n",
    "# The ANOVA test performed by sm.stats.anova_lm(model) is inherently a two-sided test.\n",
    "# Why?\n",
    "# ANOVA tests whether any group mean is significantly different from the others, without assuming a specific direction \n",
    "# of difference (e.g., whether one group mean is greater or less than another).\n",
    "# It considers deviations in both directions (higher or lower means), making it a two-tailed test."
   ]
  },
  {
   "cell_type": "markdown",
   "id": "666ba159-0785-4deb-aaca-d8e662e3541d",
   "metadata": {},
   "source": [
    "### F-Statistic ANOVA using scipy.stats:\n"
   ]
  },
  {
   "cell_type": "code",
   "execution_count": 178,
   "id": "e0dbd2a4-c11c-4ded-ad66-14bc28314465",
   "metadata": {},
   "outputs": [
    {
     "name": "stdout",
     "output_type": "stream",
     "text": [
      "F-Statistic: 2.7398\n",
      "p-value: 0.0776\n"
     ]
    }
   ],
   "source": [
    "# F-Statistic ANOVA using scipy.stats:\n",
    "\n",
    "\n",
    "    # stats.f_oneway() performs a one-way ANOVA using the F-test\n",
    "    # Each argument is the 'Time' values for a specific page\n",
    "    # Returns both the F-statistic and p-value\n",
    "\n",
    "res = stats.f_oneway(four_sessions[four_sessions.Page == 'Page 1'].Time, \n",
    "                     four_sessions[four_sessions.Page == 'Page 2'].Time,\n",
    "                     four_sessions[four_sessions.Page == 'Page 3'].Time,\n",
    "                     four_sessions[four_sessions.Page == 'Page 4'].Time)\n",
    "\n",
    "# The printing line was originally dividing by 2.. Not sure if that was an error as it makes it half of what other methods gave..\n",
    "print(f'F-Statistic: {res.statistic:.4f}')\n",
    "print(f'p-value: {res.pvalue:.4f}')\n",
    "\n",
    "# No, you do not need to divide the p-value returned by scipy.stats.f_oneway by 2. \n",
    "# The p-value provided by f_oneway is already computed for a two-tailed test."
   ]
  },
  {
   "cell_type": "code",
   "execution_count": null,
   "id": "cf5cd481-8f45-4f16-8148-b409fe65203f",
   "metadata": {},
   "outputs": [],
   "source": []
  }
 ],
 "metadata": {
  "kernelspec": {
   "display_name": "Python 3 (ipykernel)",
   "language": "python",
   "name": "python3"
  },
  "language_info": {
   "codemirror_mode": {
    "name": "ipython",
    "version": 3
   },
   "file_extension": ".py",
   "mimetype": "text/x-python",
   "name": "python",
   "nbconvert_exporter": "python",
   "pygments_lexer": "ipython3",
   "version": "3.11.7"
  }
 },
 "nbformat": 4,
 "nbformat_minor": 5
}
