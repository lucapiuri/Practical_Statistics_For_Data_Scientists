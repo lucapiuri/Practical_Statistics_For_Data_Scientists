{
 "cells": [
  {
   "cell_type": "markdown",
   "id": "d17e002e-1519-4a07-b5f0-0dcf557e9be9",
   "metadata": {},
   "source": [
    "### P 103 - Statistical Significance and P-Values"
   ]
  },
  {
   "cell_type": "code",
   "execution_count": 1,
   "id": "76547ecf-5dfd-43ba-be13-6e21560ac79a",
   "metadata": {},
   "outputs": [],
   "source": [
    "import random\n",
    "\n",
    "import pandas as pd\n",
    "import numpy as np\n",
    "\n",
    "from scipy import stats\n",
    "import statsmodels.api as sm\n",
    "import statsmodels.formula.api as smf\n",
    "from statsmodels.stats import power\n",
    "\n",
    "import matplotlib.pylab as plt"
   ]
  },
  {
   "cell_type": "code",
   "execution_count": 3,
   "id": "e07bc275-21c4-407a-9d3e-ba04c497d198",
   "metadata": {},
   "outputs": [],
   "source": [
    "# Function described in the previous notebook (96):\n",
    "# arguments are: the data to be resampled, size of group A, size of group B \n",
    "# in order to maintain the same groups-sizes for the resampled data\n",
    "\n",
    "def perm_fun(x, nA, nB):\n",
    "    n = nA + nB      \n",
    "    idx_B = set(random.sample(range(n), nB))\n",
    "    idx_A = set(range(n)) - idx_B\n",
    "    return x.loc[list(idx_B)].mean() - x.loc[list(idx_A)].mean()\n"
   ]
  },
  {
   "cell_type": "markdown",
   "id": "9499628d-a3dd-4ad5-bc60-7002ac1ea945",
   "metadata": {},
   "source": [
    "Data:\n",
    "            \n",
    "Conversion: PriceA =200 PriceB=182\n",
    "\n",
    "No Conversion: PriceA=23539  PriceB=22406"
   ]
  },
  {
   "cell_type": "code",
   "execution_count": 5,
   "id": "d8124c6b-1649-44d4-8320-6547d62d54da",
   "metadata": {},
   "outputs": [
    {
     "name": "stdout",
     "output_type": "stream",
     "text": [
      "Observed difference: 0.0368%\n"
     ]
    },
    {
     "data": {
      "image/png": "[encoded data removed]",
      "text/plain": [
       "<Figure size 500x500 with 1 Axes>"
      ]
     },
     "metadata": {},
     "output_type": "display_data"
    }
   ],
   "source": [
    "random.seed(1)\n",
    "\n",
    "    # The observed difference is 0.0368%\n",
    "    # We can test whether the difference in conversions between prices A and B \n",
    "    # is within the range of chance variation, using a resampling procedure.\n",
    "    \n",
    "    # First, let's calculate the observed difference in conversion rates\n",
    "    \n",
    "    # This is comparing two proportions: 200 successes out of 23,739 attempts in one group \n",
    "    # versus 182 successes out of 22,588 attempts in the other group. We multiply by 100 to express it as a percentage. \n",
    "\n",
    "obs_pct_diff = 100 * (200 / (23539+200) - 182 / (22406+182))\n",
    "print(f'Observed difference: {obs_pct_diff:.4f}%')\n",
    "    # A difference of 0.0368 percentage points\n",
    "    # Price A converts almost 5% better than price B\n",
    "\n",
    "\n",
    "    # we create a single series that represents all our data:\n",
    "\n",
    "n_conversions = 200+182\n",
    "n_non_conversions = 23539 + 22406\n",
    "\n",
    "conversion = [0] * n_non_conversions      # Create 45,945 zeros for all the non-conversions\n",
    "conversion.extend([1] * n_conversions)    # Add a 1 for each conversion\n",
    "conversion = pd.Series(conversion)        # Convert to a pandas Series for easier manipulation\n",
    "\n",
    "    # This creates a long series of 0s and 1s where 1 represents a successful conversion and 0 represents no conversion. \n",
    "    #It's like having a huge list where each entry represents one customer's outcome - \n",
    "    # either they converted (1) or they didn't (0).\n",
    "\n",
    "\n",
    "# The permutation test:\n",
    "\n",
    "    # For each permutation, we're:\n",
    "    # Randomly shuffling all our outcomes (the 0s and 1s)\n",
    "    # Splitting them into two groups of sizes 23,739 and 22,588 (our original group sizes)\n",
    "    # Calculating the difference in conversion rates between these random \"reshuffled\" groups\n",
    "    # Multiplying by 100 to get percentages\n",
    "    # Doing this 1000 times to create our null distribution, and storing it into \"perm_diffs\"\n",
    "\n",
    "    # The perm_diffs function takes three parameters:\n",
    "    # x: Your data to be permutated (the whole \"united\" dataset)\n",
    "    # nA: The size of group A (23539 + 200)\n",
    "    # nB: The size of group B (22406+182)\n",
    "\n",
    "    # Returns the difference of the means for the two newly created reshuffled groups\n",
    "    # We store these 1000x permutation mean-differences in perm_diffs\n",
    "\n",
    "perm_diffs = [100 * perm_fun(conversion, 23739, 22588) \n",
    "              for _ in range(1000)]\n",
    "\n",
    "    # We plot the histogram of these 1000x means and see where the original difference-of-means fall:\n",
    "\n",
    "fig, ax = plt.subplots(figsize=(5, 5))\n",
    "ax.hist(perm_diffs, bins=11, rwidth=0.9)\n",
    "ax.axvline(x=obs_pct_diff, color='black', lw=2)\n",
    "ax.text(0.06, 200, 'Observed\\ndifference', bbox={'facecolor':'white'})\n",
    "ax.set_xlabel('Conversion rate (percent)')\n",
    "ax.set_ylabel('Frequency')\n",
    "\n",
    "plt.tight_layout()\n",
    "plt.show()\n",
    "\n",
    "\n",
    "    # See the histogram of 1,000 resampled results. As it happens, in this case\n",
    "    # the observed difference of 0.0368% is well within the range of chance variation."
   ]
  },
  {
   "cell_type": "code",
   "execution_count": 11,
   "id": "967a2cc8-78ee-42fe-b41f-01713444e405",
   "metadata": {},
   "outputs": [
    {
     "data": {
      "text/plain": [
       "0.03675791182059275"
      ]
     },
     "execution_count": 11,
     "metadata": {},
     "output_type": "execute_result"
    }
   ],
   "source": []
  },
  {
   "cell_type": "code",
   "execution_count": 6,
   "id": "06ec0cab-c1a2-4d37-95c9-4d692fe4e5a3",
   "metadata": {},
   "outputs": [
    {
     "name": "stdout",
     "output_type": "stream",
     "text": [
      "Percent difference between the conversion rates: 4.56%\n"
     ]
    }
   ],
   "source": [
    "# Small note on how much percent difference is there between the two conversion rates\n",
    "precentA = (200 / (23539+200))\n",
    "precentB =  (182 / (22406+182))\n",
    "percentA_B = precentA/precentB-1\n",
    "print (f\"Percent difference between the conversion rates: {(percentA_B*100):.2f}%\")"
   ]
  },
  {
   "cell_type": "markdown",
   "id": "c7290f00-2a33-4eeb-9ed6-6accfe85146b",
   "metadata": {},
   "source": [
    "This creates a histogram showing what differences we might expect to see by chance if there were no real difference between the groups. \n",
    "\n",
    "The black vertical line shows our actual observed difference. If this line falls far out in the tails of the distribution, it suggests our observed difference is unlikely to have occurred by chance.\n",
    "\n",
    "To determine statistical significance, we compare where our observed difference falls in relation to this null distribution. \n",
    "\n",
    "If our observed difference is more extreme than 95% of the random permutations (equivalent to p < 0.05), we would typically consider the difference statistically significant."
   ]
  },
  {
   "cell_type": "markdown",
   "id": "d0eb5133-136d-4dba-852c-fc97330ccb2f",
   "metadata": {},
   "source": [
    "### P-Value\n",
    "\n",
    "\n",
    "Simply looking at the graph is not a very precise way to measure statistical signifi‐ cance, so of more interest is the p-value.\n",
    "\n",
    "This is the frequency with which the chance model produces a result more extreme than the observed result.\n",
    "\n",
    "We can estimate a p- value from our permutation test by taking the proportion of times that the permuta‐ tion test produces a difference equal to or greater than the observed difference"
   ]
  },
  {
   "cell_type": "code",
   "execution_count": 9,
   "id": "f6cd7a68-1fe9-4326-80e0-34fcaf0d4fb2",
   "metadata": {},
   "outputs": [
    {
     "name": "stdout",
     "output_type": "stream",
     "text": [
      "0.332\n"
     ]
    }
   ],
   "source": [
    "    # If np.mean is applied to a list of booleans, it gives the percentage of how often True was found in the list (#True / #Total).\n",
    "\n",
    "    # diff > obs_pct_diff: This is comparing each permuted difference (diff, created for the iterable) \n",
    "    # with an observed percentage difference (obs_pct_diff). \n",
    "    # For each comparison, it returns True and False.\n",
    "    # The list comprehension performs the comparison for every permuted difference in perm_diffs\n",
    "\n",
    "    # np.mean() - mean function: When you take the mean of boolean values, True is treated as 1 and False as 0. \n",
    "    # So this calculates the proportion of True values.\n",
    "\n",
    "    # This code is calculating the proportion of permuted differences that are greater than the observed difference. \n",
    "    # In the context of a permutation test, this is equivalent to the p-value for a one-sided test\n",
    "\n",
    "    # It prints 0.332, it means that 33.2% of the permuted differences were larger than the observed difference. \n",
    "    # In a permutation test, we're asking \"how unusual is our observed result if there was actually no real effect?\" \n",
    "    # We generate many random permutations of the data to see what differences we might expect to see by chance alone. \n",
    "    # Each permutation gives us one possible difference that could occur under the null hypothesis (the hypothesis \n",
    "    # that there's no real effect).\n",
    "\n",
    "    # The p-value of 0.332 tells us that when we randomly shuffled the data many times, about one-third of those random shuffles \n",
    "    # produced a difference larger than what we actually observed in our real data.\n",
    "\n",
    "    # If our observed difference was very unusual (indicating a real effect), we'd expect to see a small p-value like 0.05 or less, \n",
    "    # meaning only 5% or fewer of random shuffles produced a larger difference.\n",
    "    # But we got 0.332, meaning 33.2% of random shuffles produced larger differences. \n",
    "    # This suggests our observed difference is quite ordinary - something we could easily see just by chance.\n",
    "\n",
    "print(np.mean([diff > obs_pct_diff for diff in perm_diffs]))"
   ]
  },
  {
   "cell_type": "code",
   "execution_count": 11,
   "id": "9d203975-83b1-4cfe-801c-7000a578ac31",
   "metadata": {},
   "outputs": [
    {
     "name": "stdout",
     "output_type": "stream",
     "text": [
      "p-value for single sided test: 0.3498\n"
     ]
    }
   ],
   "source": [
    "    # This creates a 2x2 contingency table using NumPy, for the data provided at the start of the challange\n",
    "survivors = np.array([[200, 23739 - 200], [182, 22588 - 182]])\n",
    "\n",
    "    # The chi2_contingency() function performs a chi-square test of independence to determine if there's a significant\n",
    "    # It tests whether there is a significant association between the groups and conversion rates.\n",
    "    # Null hypothesis (H0): The two groups have the same conversion probabilities.\n",
    "    # Alternative hypothesis (H1): The conversion probabilities differ between the groups.\n",
    "    \n",
    "    # relationship between two categorical variables. It returns several values:\n",
    "\n",
    "    # chi2: the chi-square statistic\n",
    "    # p_value: the two-sided p-value (two-sided by default).\n",
    "    # df: degrees of freedom\n",
    "    # (The \"_\" captures any additional return values we're not using like \"Expected frequencies\" under the null hypothesis (unused here))\n",
    "\n",
    "chi2stat, p_value, df, _ = stats.chi2_contingency(survivors)\n",
    "\n",
    "    # The normal approximation yields a p-value of 0.3498, which is close to the p-value obtained from the permutation test.\n",
    "\n",
    "    # we're dividing the p-value by 2. This converts the two-sided p-value from the chi-square test into a one-sided p-value. \n",
    "    # We do this when we're only interested in testing in one direction \n",
    "    # (for example, if we're only interested in whether one group has a higher rate than the other, not just whether they're different).\n",
    "\n",
    "    # This section is testing the same hypothesis, just using different statistical methods:\n",
    "\n",
    "    # - The permutation test we discussed earlier (with p=0.332) used resampling\n",
    "    # - This chi-square test uses a theoretical probability distribution\n",
    "\n",
    "    # Both approaches are valid ways to test for differences between groups, though they make slightly different assumptions about the data. \n",
    "    # The fact that you're dividing the chi-square p-value by 2 suggests you're specifically interested in testing whether one group \n",
    "    # has a higher rate than the other, rather than just testing for any difference between the groups.\n",
    "\n",
    "    \n",
    "\n",
    "print(f'p-value for single sided test: {p_value / 2:.4f}')\n",
    "\n",
    "# Here's what's happening under the hood: The chi-square test first calculates whether there's any difference between the groups \n",
    "# (in either direction). This is like our two-sided test in the graph. \n",
    "# The p-value it returns tells us \"what's the probability of seeing a difference this extreme or more extreme in either direction?\"\n",
    "# But in our case, you likely had a specific hypothesis about which group should be higher. \n",
    "# Maybe you expected the first group to have a higher success rate than the second group, or vice versa. \n",
    "# This is where the one-sided test comes in.\n",
    "\n",
    "# A one-sided test is appropriate if you're only interested in deviations in a specific direction \n",
    "# For symmetric tests like the chi-squared test:\n",
    "#    Two-sided p-value = probability of observing an effect as extreme as (or more extreme than) the observed in either direction.\n",
    "#    One-sided p-value = half of the two-sided p-value."
   ]
  },
  {
   "cell_type": "markdown",
   "id": "748715e1-30a5-4668-b5f8-8e942cf285f4",
   "metadata": {},
   "source": [
    "In a two-sided test, we're looking at both tails of the distribution - we care about deviations in either direction from the null hypothesis. The p-value represents the probability of seeing a result as extreme as ours or more extreme in either direction.\n",
    "In a one-sided test, we're only looking at one tail - we only care about deviations in one specific direction. This is actually why we divide by 2, not multiply. Here's why:\n",
    "Think about a standard chi-square test result with p = 0.10. This 0.10 represents:\n",
    "\n",
    "0.05 probability in one tail\n",
    "0.05 probability in the other tail\n",
    "Total = 0.10 for both tails combined\n",
    "\n",
    "When we want to do a one-sided test, we only care about one of those tails. So we take HALF of the total probability: 0.10 ÷ 2 = 0.05\n",
    "\n",
    "If we multiplied by 2 instead, we'd be doubling the probability in both tails, which would actually make our test less stringent, not more stringent as you correctly intuited we should do for a one-sided test.\n",
    "\n",
    "\n",
    "The key insight is that one-sided tests have more power because they use all of the α in one direction. They can detect smaller effects in the direction of interest, but they can't detect effects in the opposite direction at all."
   ]
  },
  {
   "cell_type": "markdown",
   "id": "2ca5ba3a-2fbc-4ccd-ae71-abdacec50e6b",
   "metadata": {},
   "source": [
    "You're absolutely right to raise this concern, as it touches on a subtle but important detail about the interpretation of p-values and the setup of one-sided vs. two-sided tests. Let’s carefully go through this.\n",
    "Two-Sided vs. One-Sided Hypotheses\n",
    "\n",
    "    Two-Sided Test\n",
    "        The null hypothesis (H0): The two groups have the same survival rates.\n",
    "        The alternative hypothesis (H1): The survival rates are not equal (could differ in either direction).\n",
    "        The rejection region is split between both tails of the test distribution.\n",
    "            For α=0.05, each tail has 0.025 significance.\n",
    "\n",
    "    One-Sided Test\n",
    "        The null hypothesis (H0): The survival rate of Group A is less than or equal to that of Group B.\n",
    "        The alternative hypothesis (H1): The survival rate of Group A is greater than that of Group B.\n",
    "        The rejection region lies entirely in one tail of the test distribution.\n",
    "            For α=0.05, the entire 5% rejection region is in the right tail (assuming we test for greater survival).\n",
    "\n",
    "### Does Halving the Two-Sided p-value Work?\n",
    "\n",
    "In a symmetric test, like the chi-squared test, halving the two-sided p-value works only if:\n",
    "\n",
    "    The test statistic is computed such that larger values always correspond to the direction of interest (e.g., greater survival for Group A).\n",
    "    You're certain that the test statistic lies entirely in the one tail you're interested in.\n",
    "\n",
    "For example, if you're testing for H1:Survival rate of Group A > Group BH1​:Survival rate of Group A > Group B, and the computed test statistic is positive (indicating greater survival for Group A), then halving the two-sided p-value is valid because you're essentially taking the area under the tail corresponding to your direction of interest."
   ]
  },
  {
   "cell_type": "markdown",
   "id": "27f9b018-7701-4f3b-9998-762ac0dccbfe",
   "metadata": {},
   "source": [
    "### More on the halving of the p-value\n",
    "\n",
    "What Does the Chi-Squared Test Compute?\n",
    "\n",
    "The chi-squared test computes a test statistic and a corresponding two-sided p-value by default. Here's how this works:\n",
    "\n",
    "    The chi-squared test measures how far the observed data deviate from the expected data under the null hypothesis (H0).\n",
    "    The test statistic follows a chi-squared distribution, which is always non-negative (because it’s based on squared differences).\n",
    "    The two-sided p-value corresponds to the probability of observing a deviation as extreme as the test statistic, considering both tails of the distribution.\n",
    "\n",
    "Why Halve the Two-Sided P-Value?\n",
    "\n",
    "In a one-sided hypothesis test, you’re only interested in deviations in a specific direction (e.g., Group A has higher survival than Group B). Let’s break this down:\n",
    "Two-Sided Hypothesis Test\n",
    "\n",
    "    Null hypothesis (H0): The survival rates are equal.\n",
    "    Alternative hypothesis (H1): The survival rates are different (could be higher or lower).\n",
    "    The two-sided p-value considers both directions (e.g., Group A has higher OR lower survival than Group B).\n",
    "\n",
    "One-Sided Hypothesis Test\n",
    "\n",
    "    Null hypothesis (H0): Group A's survival rate is less than or equal to Group B's survival rate.\n",
    "    Alternative hypothesis (H1): Group A's survival rate is greater than Group B's survival rate.\n",
    "    The one-sided p-value should consider only the right tail of the chi-squared distribution (i.e., the area beyond the observed test statistic in the direction of interest).\n",
    "\n",
    "Since the chi-squared test inherently computes a symmetric two-sided p-value, and you’re only interested in half of this area (the right tail), you divide the two-sided p-value by 2.\n",
    "When Is Halving Valid?\n",
    "\n",
    "Halving the p-value is valid only when:\n",
    "\n",
    "    The alternative hypothesis explicitly focuses on one direction (e.g., Group A > Group B).\n",
    "    The observed test statistic aligns with the direction of the alternative hypothesis.\n",
    "        If the test statistic suggests the opposite direction (e.g., Group A < Group B in a \"greater than\" test), you would not halve the p-value but interpret it differently."
   ]
  },
  {
   "cell_type": "markdown",
   "id": "85bd130c-e93e-4212-945d-658ced200913",
   "metadata": {},
   "source": [
    "### What Does the P-Value Mean?\n",
    "\n",
    "    A small p-value (e.g., p<0.05) indicates that the observed data are unlikely under the null hypothesis, suggesting a significant deviation between observed and expected frequencies. In this case, you might reject H0.\n",
    "    A large p-value suggests that the observed data are consistent with the expected data, and there’s no strong evidence against H0H0​."
   ]
  },
  {
   "cell_type": "markdown",
   "id": "efec072e-ffd4-426e-a732-66647b6a9fd7",
   "metadata": {},
   "source": [
    "### Why Halve the Two-Sided P-Value?\n",
    "\n",
    "The chi-squared test, by default, calculates a two-sided p-value because it is designed to test whether there is any significant difference between the observed and expected frequencies, without assuming a specific direction.\n",
    "\n",
    "When you perform a one-sided test, you're only interested in deviations in one specific direction (e.g., Group A has a higher survival rate than Group B).\n",
    "\n",
    "Halving the two-sided p-value isolates the probability of deviations in one tail of the distribution (the \"extreme values\" in your direction of interest)."
   ]
  },
  {
   "cell_type": "markdown",
   "id": "12dd8305-3732-4e2d-b80f-e79ac7a6b9a0",
   "metadata": {},
   "source": [
    "## Are All Extreme Values in One Tail? (could they?)\n",
    "\n",
    "No, not all extreme values are necessarily in one tail. However:\n",
    "\n",
    "    Chi-Squared Statistic is Always Positive:\n",
    "        The chi-squared statistic is based on squared differences.\n",
    "        This means that the test doesn't distinguish whether Oi>Ei (observed is higher than expected) \n",
    "        or Oi<Ei (observed is lower than expected). It only measures the magnitude of deviation, not its direction.\n",
    "        As a result, the test inherently considers both tails of the distribution in the calculation of the p-value.\n",
    "\n",
    "    Direction in a One-Sided Test:\n",
    "        In a one-sided test, you're hypothesizing a specific direction (e.g., Group A has greater survival).\n",
    "        If the observed chi-squared statistic supports this direction, the extreme values are effectively concentrated in the right tail.\n",
    "\n",
    "By halving the two-sided p-value, you're isolating the area in the right tail, which aligns with your directional hypothesis."
   ]
  },
  {
   "cell_type": "markdown",
   "id": "cd1a28da-1f0b-4da2-a4ce-9afa9bcbfc76",
   "metadata": {},
   "source": [
    "### Chi-Squared Statistic:\n",
    "\n",
    "    The chi-squared test statistic is inherently non-negative because it's based on squared differences\n",
    "    This means the chi-squared distribution is asymmetric and only has values on the positive side\n",
    "\n",
    "Two-Sided P-Value:\n",
    "\n",
    "    The default p-value from \"stats.chi2_contingency()\" already accounts for all \"extreme values\" in the distribution (i.e., the right tail of the curve).\n",
    "    Since the chi-squared distribution has only one tail (positive values), this \"right tail\" effectively covers both \"extreme directions\" in a chi-squared test.\n",
    "\n",
    "### Why Halve the P-Value?\n",
    "\n",
    "When you perform a one-sided hypothesis test, you’re hypothesizing a deviation in one specific direction (e.g., Group A > Group B). However, the chi-squared test doesn’t differentiate between directions—it only detects the magnitude of deviation.\n",
    "\n",
    "To approximate a one-sided test:\n",
    "\n",
    "    Compute the two-sided p-value using stats.chi2_contingency().\n",
    "    Divide this two-sided p-value by 2, because:\n",
    "        The two-sided p-value accounts for deviations in both directions (even though it's one tail of the chi-squared distribution).\n",
    "        Halving isolates the probability in the direction of interest.\n",
    "\n",
    "\n",
    "### Key Point\n",
    "\n",
    "The expression 1 - chi2.cdf(chi2_statistic, df) already gives the probability of observing a test statistic at least as extreme as the observed one in the right tail. It is effectively the two-sided p-value for the chi-squared test because the chi-squared distribution has only one tail.\n",
    "\n",
    "For a one-sided hypothesis test:\n",
    "\n",
    "    You halve the two-sided p-value returned by stats.chi2_contingency().\n",
    "\n",
    "\n",
    "    "
   ]
  },
  {
   "cell_type": "code",
   "execution_count": null,
   "id": "c50787da-b526-4447-b657-acfd86040f1c",
   "metadata": {},
   "outputs": [],
   "source": []
  }
 ],
 "metadata": {
  "kernelspec": {
   "display_name": "Python 3 (ipykernel)",
   "language": "python",
   "name": "python3"
  },
  "language_info": {
   "codemirror_mode": {
    "name": "ipython",
    "version": 3
   },
   "file_extension": ".py",
   "mimetype": "text/x-python",
   "name": "python",
   "nbconvert_exporter": "python",
   "pygments_lexer": "ipython3",
   "version": "3.11.7"
  }
 },
 "nbformat": 4,
 "nbformat_minor": 5
}
