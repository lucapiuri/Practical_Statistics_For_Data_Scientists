{
 "cells": [
  {
   "cell_type": "markdown",
   "id": "cee0ced8-433f-4ac2-a486-8563c1324429",
   "metadata": {},
   "source": [
    "## Resampling"
   ]
  },
  {
   "cell_type": "code",
   "execution_count": 2,
   "id": "8bc0c20f-d5a8-4ad8-81e9-8dcbb60ae4fd",
   "metadata": {},
   "outputs": [],
   "source": [
    "\n",
    "import random\n",
    "\n",
    "import pandas as pd\n",
    "import numpy as np\n",
    "\n",
    "from scipy import stats\n",
    "import statsmodels.api as sm\n",
    "import statsmodels.formula.api as smf\n",
    "from statsmodels.stats import power\n",
    "\n",
    "import matplotlib.pylab as plt\n",
    "\n"
   ]
  },
  {
   "cell_type": "code",
   "execution_count": 4,
   "id": "2f8d3813-aed6-4ac1-9e8d-aa3d47e44adb",
   "metadata": {},
   "outputs": [
    {
     "name": "stdout",
     "output_type": "stream",
     "text": [
      "Total observations 36. \n",
      "Page A: 21   Page B: 15\n"
     ]
    },
    {
     "data": {
      "text/html": [
       "<div>\n",
       "<style scoped>\n",
       "    .dataframe tbody tr th:only-of-type {\n",
       "        vertical-align: middle;\n",
       "    }\n",
       "\n",
       "    .dataframe tbody tr th {\n",
       "        vertical-align: top;\n",
       "    }\n",
       "\n",
       "    .dataframe thead th {\n",
       "        text-align: right;\n",
       "    }\n",
       "</style>\n",
       "<table border=\"1\" class=\"dataframe\">\n",
       "  <thead>\n",
       "    <tr style=\"text-align: right;\">\n",
       "      <th></th>\n",
       "      <th>Page</th>\n",
       "      <th>Time</th>\n",
       "    </tr>\n",
       "  </thead>\n",
       "  <tbody>\n",
       "    <tr>\n",
       "      <th>0</th>\n",
       "      <td>Page A</td>\n",
       "      <td>21.0</td>\n",
       "    </tr>\n",
       "    <tr>\n",
       "      <th>1</th>\n",
       "      <td>Page B</td>\n",
       "      <td>253.0</td>\n",
       "    </tr>\n",
       "    <tr>\n",
       "      <th>2</th>\n",
       "      <td>Page A</td>\n",
       "      <td>35.0</td>\n",
       "    </tr>\n",
       "    <tr>\n",
       "      <th>3</th>\n",
       "      <td>Page B</td>\n",
       "      <td>71.0</td>\n",
       "    </tr>\n",
       "    <tr>\n",
       "      <th>4</th>\n",
       "      <td>Page A</td>\n",
       "      <td>67.0</td>\n",
       "    </tr>\n",
       "  </tbody>\n",
       "</table>\n",
       "</div>"
      ],
      "text/plain": [
       "     Page   Time\n",
       "0  Page A   21.0\n",
       "1  Page B  253.0\n",
       "2  Page A   35.0\n",
       "3  Page B   71.0\n",
       "4  Page A   67.0"
      ]
     },
     "execution_count": 4,
     "metadata": {},
     "output_type": "execute_result"
    }
   ],
   "source": [
    "    # This is Google Analytics data\n",
    "    # The result is a total of 36 sessions for the two different presentations, 21 for page A and 15 for page B\n",
    "\n",
    "session_times = pd.read_csv('web_page_data.csv')\n",
    "session_times.Time = 100 * session_times.Time\n",
    "session_times.head()\n",
    "\n",
    "    # counting \n",
    "count_A = (session_times.Page == 'Page A').sum()\n",
    "count_B = (session_times.Page == 'Page B').sum()\n",
    "count_TOT = session_times.shape[0]\n",
    "\n",
    "print(\"Total observations {}. \\nPage A: {}   Page B: {}\".format(count_TOT,count_A, count_B ) )\n",
    "\n",
    "\n",
    "session_times.head()\n"
   ]
  },
  {
   "cell_type": "markdown",
   "id": "91a97aad-6fbd-438a-af2f-181e21c2398e",
   "metadata": {},
   "source": [
    "#### Boxplots"
   ]
  },
  {
   "cell_type": "code",
   "execution_count": 6,
   "id": "11eeae88-f501-425a-bacb-2800d7cfee1d",
   "metadata": {},
   "outputs": [
    {
     "data": {
      "image/png": "[encoded data removed]",
      "text/plain": [
       "<Figure size 400x400 with 1 Axes>"
      ]
     },
     "metadata": {},
     "output_type": "display_data"
    }
   ],
   "source": [
    "    # Creates a boxplot:\n",
    "    # session_times.boxplot: This method generates a boxplot using the data in the pandas DataFrame session_times\n",
    "    # by='Page': Groups the data by the Page column, creating a separate boxplot for each unique value in the Page column.\n",
    "    # column='Time': Specifies that the Time column values are used to create the boxplots.\n",
    "    # ax: The plot's axes object is returned and stored in the variable ax.\n",
    "\n",
    "ax = session_times.boxplot(by='Page', column='Time', figsize=(4, 4))\n",
    "\n",
    "    # Removes the x-axis label by setting it to an empty string ('').\n",
    "ax.set_xlabel('')\n",
    "\n",
    "ax.set_ylabel('Time (in seconds)')\n",
    "\n",
    "    # Removes the default title (\"Boxplot grouped by Page\") generated by pandas, leaving it blank.\n",
    "plt.suptitle('')\n",
    "\n",
    "    # Adjusts the layout of the plot to ensure that all elements fit neatly within the figure, avoiding overlaps or cutoff labels.\n",
    "plt.tight_layout()\n",
    "plt.show()"
   ]
  },
  {
   "cell_type": "markdown",
   "id": "834d84f0-5950-4536-bf04-b3bc6ca4466c",
   "metadata": {},
   "source": [
    "The boxplot, shown in Figure 3-3, indicates that page B leads to longer sessions than page A. "
   ]
  },
  {
   "cell_type": "markdown",
   "id": "b83ba713-b67d-4724-ba8b-dccc826e1d87",
   "metadata": {},
   "source": [
    "### More on ax objects\n",
    "\n",
    "In Matplotlib, a plot is built on a figure (the overall canvas) and contains one or more axes (subplots or individual plots). An axes object represents the area of the figure where data is plotted. It includes:\n",
    "\n",
    "    The plot itself (e.g., lines, bars, or boxplots).\n",
    "    The axes (x-axis and y-axis), including their labels, ticks, and scales.\n",
    "    Titles, legends, and other visual elements.\n",
    "\n",
    "\n",
    "#### What is Stored in ax?\n",
    "\n",
    "The ax variable stores the reference to the axes object for the boxplot. This allows you to customize the plot further, such as setting labels, changing titles, or adding additional elements like annotations.\n",
    "\n",
    "#### Why is ax Useful?\n",
    "\n",
    "The ax object acts like a handle to the specific plot, allowing you to apply changes or retrieve information about the plot programmatically. If you create multiple subplots, you can have different ax objects to control each subplot individually.\n",
    "\n",
    "Think of ax as a remote control for the specific plot it corresponds to. With this \"remote,\" you can adjust various settings for the plot (axes labels, titles, grid lines, etc.).\n",
    "\n",
    "#### Why use ax?\n",
    "\n",
    "    It can be called any other name, ax it’s short and descriptive.\n",
    "    It's a widely recognized convention, so it makes your code easier to understand for others (and your future self)."
   ]
  },
  {
   "cell_type": "markdown",
   "id": "6aadd4cc-131c-4f24-8b59-0ae4b1842012",
   "metadata": {},
   "source": [
    "### Means"
   ]
  },
  {
   "cell_type": "code",
   "execution_count": 8,
   "id": "fc4a0001-2da6-4663-b732-9fa0ac8110ed",
   "metadata": {},
   "outputs": [
    {
     "name": "stdout",
     "output_type": "stream",
     "text": [
      "Mean A: 126.33   Mean B: 162.00\n",
      "Difference in the means: 35.67\n",
      "Page B has session times that are greater than those of page A by 35.67 seconds, on average.\n"
     ]
    }
   ],
   "source": [
    "    # We can calculate the mean for each group:\n",
    "\n",
    "    # we filter the pandas data frame first by page and then determine the mean of the Time column:\n",
    "mean_a = session_times[session_times.Page == 'Page A'].Time.mean()\n",
    "mean_b = session_times[session_times.Page == 'Page B'].Time.mean()\n",
    "print(f\"Mean A: {mean_a:.2f}   Mean B: {mean_b:.2f}\")\n",
    "print(f\"Difference in the means: {(mean_b - mean_a):.2f}\")\n",
    "print (f\"Page B has session times that are greater than those of page A by {(mean_b - mean_a):.2f} seconds, on average.\")"
   ]
  },
  {
   "cell_type": "code",
   "execution_count": 10,
   "id": "1fc796c2-dfdc-4ccb-b0e8-437bcd3514ca",
   "metadata": {},
   "outputs": [
    {
     "name": "stdout",
     "output_type": "stream",
     "text": [
      "0     True\n",
      "1    False\n",
      "2     True\n",
      "3    False\n",
      "4     True\n",
      "Name: Page, dtype: bool\n"
     ]
    },
    {
     "data": {
      "text/html": [
       "<div>\n",
       "<style scoped>\n",
       "    .dataframe tbody tr th:only-of-type {\n",
       "        vertical-align: middle;\n",
       "    }\n",
       "\n",
       "    .dataframe tbody tr th {\n",
       "        vertical-align: top;\n",
       "    }\n",
       "\n",
       "    .dataframe thead th {\n",
       "        text-align: right;\n",
       "    }\n",
       "</style>\n",
       "<table border=\"1\" class=\"dataframe\">\n",
       "  <thead>\n",
       "    <tr style=\"text-align: right;\">\n",
       "      <th></th>\n",
       "      <th>Page</th>\n",
       "      <th>Time</th>\n",
       "    </tr>\n",
       "  </thead>\n",
       "  <tbody>\n",
       "    <tr>\n",
       "      <th>0</th>\n",
       "      <td>Page A</td>\n",
       "      <td>21.0</td>\n",
       "    </tr>\n",
       "    <tr>\n",
       "      <th>2</th>\n",
       "      <td>Page A</td>\n",
       "      <td>35.0</td>\n",
       "    </tr>\n",
       "    <tr>\n",
       "      <th>4</th>\n",
       "      <td>Page A</td>\n",
       "      <td>67.0</td>\n",
       "    </tr>\n",
       "    <tr>\n",
       "      <th>6</th>\n",
       "      <td>Page A</td>\n",
       "      <td>211.0</td>\n",
       "    </tr>\n",
       "    <tr>\n",
       "      <th>8</th>\n",
       "      <td>Page A</td>\n",
       "      <td>132.0</td>\n",
       "    </tr>\n",
       "  </tbody>\n",
       "</table>\n",
       "</div>"
      ],
      "text/plain": [
       "     Page   Time\n",
       "0  Page A   21.0\n",
       "2  Page A   35.0\n",
       "4  Page A   67.0\n",
       "6  Page A  211.0\n",
       "8  Page A  132.0"
      ]
     },
     "execution_count": 10,
     "metadata": {},
     "output_type": "execute_result"
    }
   ],
   "source": [
    "    # Very interesting filtering:\n",
    "    # This gives \"True/False map\" of whether values are 'Page A':\n",
    "session_times_Page_A = session_times.Page == 'Page A'\n",
    "print(session_times_Page_A.head())\n",
    "\n",
    "    # And we can use that to filter just the elements with \"Page A\"\n",
    "session_times[session_times.Page == 'Page A'].head()"
   ]
  },
  {
   "cell_type": "markdown",
   "id": "63dc09d3-05ba-45b3-bafb-65a020842664",
   "metadata": {},
   "source": [
    "Page B has session times that are greater than those of page A by 35.67 seconds, on average. \n",
    "\n",
    "The question is whether this difference is within the range of what random chance might produce, i.e., is statistically significant. \n",
    "\n",
    "One way to answer this is to apply a permutation test—combine all the session times together and then repeatedly shuffle and divide them into groups of 21 (recall that nA = 21 for page A) and 15 (nB = 15 for page B)."
   ]
  },
  {
   "cell_type": "markdown",
   "id": "88072482-55e8-4f1b-8719-df8e35fcbdc0",
   "metadata": {},
   "source": [
    "### Permutation Test\n",
    "\n",
    "To apply a permutation test, we need a function to randomly assign the 36 session times to a group of 21 (page A) and a group of 15 (page B)."
   ]
  },
  {
   "cell_type": "code",
   "execution_count": 158,
   "id": "1d0a0f87-bece-45c5-ba2e-cc7cfe9ba353",
   "metadata": {},
   "outputs": [
    {
     "name": "stdout",
     "output_type": "stream",
     "text": [
      "35.09523809523809\n"
     ]
    }
   ],
   "source": [
    "# This function is implementing what's called a random permutation or reshuffling of the data. \n",
    "# Think of it like randomly dealing cards into two piles, where the size of each pile matches your original groups.\n",
    "\n",
    "def perm_fun(x, nA, nB):\n",
    "\n",
    "    # The function takes three parameters:\n",
    "    # x: Your data (in this case, the 'Time' column:   session_times.Time  )\n",
    "    # nA: The size of group A (number of Page A observations)\n",
    "    # nB: The size of group B (number of Page B observations)\n",
    "\n",
    "#The code first calculates the total number of observations (n = nA + nB). \n",
    "    n = nA + nB  \n",
    "\n",
    "# Then, instead of actually shuffling the data, it creates two sets of indices \n",
    "# that will be used to split the data into new random groups. This is more efficient than shuffling the actual values.\n",
    "\n",
    "# The next line randomly selects nB numbers from the range 0 to n-1, representing the indices for group B. \n",
    "    \n",
    "# random.sample() function: returns a particular length list of items chosen from the sequence. \n",
    "# Used for random sampling without replacement. \n",
    "# this is then converted to a set in order to enable the set subtraction operation that comes next\n",
    "    \n",
    "    idx_B = set(random.sample(range(n), nB))\n",
    "\n",
    "# This subtracts the list of index_B from the total list of indexes, to obtain index_A\n",
    "    idx_A = set(range(n)) - idx_B\n",
    "\n",
    "# .loc is a pandas DataFrame accessor that lets you select data using labels/indices in a very precise way. \n",
    "# like using an index in a book - if you have specific page numbers you want to look up, .loc helps you find exactly those pages.\n",
    "#  x.loc[list(idx_B)] means \"get me the values from x at indices found in idx_B\"\n",
    "# idx_B is converted to a list because .loc works better with lists.\n",
    "\n",
    "# then we take the mean for each group, and find the difference\n",
    "    \n",
    "    return x.loc[list(idx_B)].mean() - x.loc[list(idx_A)].mean()\n",
    "\n",
    "nA = session_times[session_times.Page == 'Page A'].shape[0]\n",
    "nB = session_times[session_times.Page == 'Page B'].shape[0]\n",
    "\n",
    "print(perm_fun(session_times.Time, nA, nB))\n"
   ]
  },
  {
   "cell_type": "markdown",
   "id": "32b3486e-4d21-4843-aec6-b6db5f9a7341",
   "metadata": {},
   "source": [
    "\n",
    "\n",
    "Calling this function R = 1,000 times and specifying nA = 21 and nB = 15 leads to a distribution of differences in the session\n",
    "times that can be plotted as a histogram."
   ]
  },
  {
   "cell_type": "code",
   "execution_count": 154,
   "id": "e1e72b8c-8017-4242-add5-f43317f1ef30",
   "metadata": {},
   "outputs": [
    {
     "data": {
      "image/png": "[encoded data removed]",
      "text/plain": [
       "<Figure size 500x500 with 1 Axes>"
      ]
     },
     "metadata": {},
     "output_type": "display_data"
    }
   ],
   "source": [
    "    # This ensures we get the same random results each time - very useful for reproducibility\n",
    "\n",
    "random.seed(1)\n",
    "\n",
    "\n",
    "    # This executes the \"perm_fun\" function 1000 times and stores the result in the \"perm_diffs\" list\n",
    "    # This line runs our permutation function 1000 times, creating what we call a \"null distribution\" - \n",
    "    # it shows us what differences we might see just by chance if there were no real effect between groups A and B. \n",
    "\n",
    "perm_diffs = [perm_fun(session_times.Time, nA, nB) for _ in range(1000)]\n",
    "\n",
    "\n",
    "    # Now we create the visualization:\n",
    "\n",
    "fig, ax = plt.subplots(figsize=(5, 5))\n",
    "\n",
    "    # The histogram shows the distribution of our permuted differences:\n",
    "ax.hist(perm_diffs, bins=11, rwidth=0.9)\n",
    "\n",
    "    # Then we add a vertical line showing our actual observed difference:\n",
    "ax.axvline(x = mean_b - mean_a, color='black', lw=2)\n",
    "\n",
    "ax.text(50, 190, 'Observed\\ndifference', bbox={'facecolor':'white'})\n",
    "ax.set_xlabel('Session time differences (in seconds)')\n",
    "ax.set_ylabel('Frequency')\n",
    "\n",
    "plt.tight_layout()\n",
    "plt.show()\n",
    "\n"
   ]
  },
  {
   "cell_type": "markdown",
   "id": "28eb1160-0e43-4a38-a035-54544193de26",
   "metadata": {},
   "source": [
    "The resulting visualization tells us something important: if the black line (our actual observed difference) falls far into the tails of the histogram, it suggests that the difference we observed is unlikely to have occurred by chance. If it falls in the middle of the distribution, it suggests our observed difference could easily have occurred randomly.\n",
    "\n",
    "The histogram shows that mean difference of random permutations often exceeds the observed difference in session times (the vertical line). For our results, this happens in 12.1% of the cases (see below)"
   ]
  },
  {
   "cell_type": "code",
   "execution_count": 168,
   "id": "18f950f7-4bf9-4bde-9aa6-510df4e43529",
   "metadata": {},
   "outputs": [
    {
     "name": "stdout",
     "output_type": "stream",
     "text": [
      "0.121\n"
     ]
    }
   ],
   "source": [
    "    # convert perm_diffs to numpy array to avoid problems with some Python installations\n",
    "perm_diffs = np.array(perm_diffs)\n",
    "\n",
    "    # perm_diffs > mean_b - mean_a compares every value in our permutation differences to our observed difference (mean_b - mean_a). \n",
    "    # This creates an array of True/False values.\n",
    "    \n",
    "print(np.mean(perm_diffs > mean_b - mean_a))\n",
    "\n",
    "\n"
   ]
  },
  {
   "cell_type": "code",
   "execution_count": 196,
   "id": "7c5f972c-87c4-45f7-a496-65b4cf21edb5",
   "metadata": {},
   "outputs": [
    {
     "name": "stdout",
     "output_type": "stream",
     "text": [
      "Array of differences:  [False False False False False False False False False False False False\n",
      "  True  True False False False  True False False] ...\n",
      "Its mean:  0.121\n"
     ]
    }
   ],
   "source": [
    "differences_array = (perm_diffs > mean_b - mean_a)\n",
    "print(\"Array of differences: \", differences_array[0:20], \"...\")\n",
    "print (\"Its mean: \",  differences_array.mean())\n"
   ]
  },
  {
   "cell_type": "markdown",
   "id": "68611892-bda4-4d3e-b4a8-395271da4038",
   "metadata": {},
   "source": [
    "### More on the \"null distribution\"\n",
    "\n",
    "Let me explain the concept of a null distribution by building up from fundamentals.\n",
    "In statistics, when we're comparing two groups (like Page A and Page B in your example), we start with a \"null hypothesis\" - a baseline assumption that there's no real difference between the groups. Any differences we see would just be due to random chance. This is similar to how if you flip a fair coin 10 times, you might get 7 heads and 3 tails even though the true probability is 50-50. That difference from exactly 5-5 is just random variation.\n",
    "\n",
    "\n",
    "The null distribution shows us what kind of differences we might see purely by chance if there truly was no effect. In your code, we create this distribution through simulation: we repeatedly shuffle all the data randomly into two groups (maintaining the original group sizes) and calculate the difference between these randomly-assigned groups each time.\n",
    "\n",
    "### Example\n",
    "\n",
    "Think of it like this: Imagine you have 20 people's heights written on cards - 10 from Minneapolis and 10 from St. Paul. Your actual data shows Minneapolis people are 2 inches taller on average. Is this a real difference, or could it have happened by chance? To find out, you could:\n",
    "\n",
    "Mix all 20 cards together\n",
    "Randomly deal them into two piles of 10 each\n",
    "Calculate the difference in averages between these random piles\n",
    "Repeat this process 1000 times\n",
    "\n",
    "The collection of these 1000 random differences forms your null distribution. It tells you what kind of differences you might see just by chance when there's no real underlying difference between the groups.\n",
    "\n",
    "If your actual observed difference (shown by the black line in your plot) is far outside this null distribution, it suggests that the difference you observed is unlikely to have occurred by chance alone. "
   ]
  },
  {
   "cell_type": "markdown",
   "id": "28b95b3c-41d8-462b-ba76-6d13a89c3ea9",
   "metadata": {},
   "source": [
    "### Fig and Ax\n",
    "\n",
    "In Matplotlib, there are two main objects that work together to create visualizations:\n",
    "\n",
    "The Figure (which we store in fig) is like a blank canvas or piece of paper. It's the outer container that holds everything - it manages the space where your plots will live and handles things like saving to files or displaying on screen. Think of it as the entire window or image that will contain your visualization.\n",
    "\n",
    "The Axes (which we store in ax) is like a specific drawing area within that canvas where your actual plotting happens. This is where you call methods like .plot(), .hist(), or .scatter(). The Axes object manages things like the coordinate system, labels, ticks, and the actual data visualization.\n",
    "\n",
    "The function plt.subplots() creates both of these objects at once and returns them as a tuple. It's called \"subplots\" because it can create multiple plotting areas (multiple Axes) within one Figure.\n",
    "\n",
    "\n",
    "The figsize=(5, 5) parameter is telling Matplotlib to create a square Figure that's 5 inches by 5 inches. Then you use the ax object to create your histogram and add other elements\n",
    "\n",
    "While we don't explicitly call methods on fig, it's still actively working behind the scenes. Let me explain with an analogy.\n",
    "\n",
    "Think of fig like a photo frame and ax like the photo inside it. When you adjust the photo (using ax), you're working within the frame's boundaries. The frame (fig) is still essential - it's holding everything together and controlling the overall size and properties, even if we're not directly touching it.\n",
    "\n",
    "We're creating a 5-inch by 5-inch frame. After that, everything we do with ax is constrained by and displayed within that frame. The fig object is still actively managing:\n",
    "\n",
    "- The overall size of the visualization\n",
    "- The mapping between screen coordinates and figure coordinates\n",
    "- The rendering of the entire visualization\n",
    "- Memory management for the plot\n",
    "- The connection to the display system or file output\n",
    "\n",
    "These commands are actually working with our fig object behind the scenes. We could write them more explicitly as:\n",
    "fig.tight_layout()\n",
    "fig.show()\n"
   ]
  },
  {
   "cell_type": "code",
   "execution_count": 1,
   "id": "9910b15b-aa53-439a-bb0a-efcef4a79e21",
   "metadata": {},
   "outputs": [],
   "source": []
  },
  {
   "cell_type": "code",
   "execution_count": null,
   "id": "1fd4123b-d915-4a2e-98ed-f0640ae7bb28",
   "metadata": {},
   "outputs": [],
   "source": []
  }
 ],
 "metadata": {
  "kernelspec": {
   "display_name": "Python 3 (ipykernel)",
   "language": "python",
   "name": "python3"
  },
  "language_info": {
   "codemirror_mode": {
    "name": "ipython",
    "version": 3
   },
   "file_extension": ".py",
   "mimetype": "text/x-python",
   "name": "python",
   "nbconvert_exporter": "python",
   "pygments_lexer": "ipython3",
   "version": "3.11.7"
  }
 },
 "nbformat": 4,
 "nbformat_minor": 5
}
