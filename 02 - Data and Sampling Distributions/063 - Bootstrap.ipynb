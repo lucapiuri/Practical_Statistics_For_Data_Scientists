{
 "cells": [
  {
   "cell_type": "markdown",
   "id": "15d7c257-7dc1-42dd-ad9a-d702cfc63abe",
   "metadata": {},
   "source": [
    "## The Bootstrap\n"
   ]
  },
  {
   "cell_type": "code",
   "execution_count": 8,
   "id": "42136eb5-1705-46ee-870b-5e6558c651e1",
   "metadata": {},
   "outputs": [],
   "source": [
    "import pandas as pd\n",
    "import seaborn as sns\n",
    "import matplotlib.pylab as plt\n",
    "from sklearn.utils import resample\n",
    "\n",
    "\n",
    "loans_income = pd.read_csv(\"loans_income.csv\").squeeze('columns')\n",
    "\n"
   ]
  },
  {
   "cell_type": "code",
   "execution_count": 10,
   "id": "721cfc6e-e69b-43fb-bd04-fa841aaf9213",
   "metadata": {},
   "outputs": [
    {
     "name": "stdout",
     "output_type": "stream",
     "text": [
      "Bootstrap Statistics:\n",
      "original: 62000.0\n",
      "bias: -73.97350000000006\n",
      "std. error: 219.5400541658228\n"
     ]
    }
   ],
   "source": [
    "results = []\n",
    "for nrepeat in range(1000):\n",
    "    sample = resample(loans_income)\n",
    "    results.append(sample.median())\n",
    "results = pd.Series(results)\n",
    "\n",
    "print('Bootstrap Statistics:')\n",
    "print(f'original: {loans_income.median()}')\n",
    "print(f'bias: {results.mean() - loans_income.median()}')\n",
    "print(f'std. error: {results.std()}')"
   ]
  },
  {
   "cell_type": "markdown",
   "id": "f515da8f-74c5-4d78-b3ba-f6e3f0d9e32e",
   "metadata": {},
   "source": [
    "## Explaination\n",
    "Resample (sklearn) = Resample arrays or sparse matrices in a consistent way.\n",
    "\n",
    "Bootstrapping is a statistical technique used to estimate properties (like the mean, median, or standard error) of a population by resampling a dataset with replacement.\n",
    "\n",
    "A loop runs 1000 times, \n",
    "1) In each iteration: resampling (resample(loans_income) generates a new sample from the loans_income dataset. The sample is drawn with replacement, meaning the same data point can appear multiple times in the new sample)\n",
    "\n",
    "2) Compute Median: The median of this bootstrap sample is calculated using sample.median().\n",
    "\n",
    "3) Store Result: The computed median is appended to the results list.\n",
    "\n",
    "At the end of the loop, the results list contains 1000 bootstrap sample medians.\n",
    "\n",
    "\n",
    "##\n",
    "The results list is converted into a Pandas Series, which provides convenient statistical methods like mean() and std().\n",
    "\n",
    "Original Median:\n",
    "\n",
    "    loans_income.median() calculates the median of the original dataset (not the bootstrap samples).\n",
    "    This serves as the reference statistic.\n",
    "\n",
    "Bias:\n",
    "\n",
    "    Bias is the difference between the mean of the bootstrap medians (results.mean()) and the original median (loans_income.median()).\n",
    "    It quantifies how much the bootstrap estimate deviates from the original estimate.\n",
    "\n",
    "Standard Error:\n",
    "\n",
    "    results.std() calculates the standard deviation of the bootstrap medians, which provides an estimate of the uncertainty (variability) of the median.\n"
   ]
  },
  {
   "cell_type": "code",
   "execution_count": 18,
   "id": "0a276eb8-852c-45b8-9252-90489885df1a",
   "metadata": {},
   "outputs": [
    {
     "data": {
      "text/plain": [
       "16880    57000\n",
       "3950     62000\n",
       "33363    50000\n",
       "33388    45000\n",
       "25801    60300\n",
       "         ...  \n",
       "1228     94000\n",
       "11301    60000\n",
       "18272    55000\n",
       "34309    35000\n",
       "23485    62000\n",
       "Name: x, Length: 50000, dtype: int64"
      ]
     },
     "execution_count": 18,
     "metadata": {},
     "output_type": "execute_result"
    }
   ],
   "source": [
    "test = resample(loans_income)\n",
    "test"
   ]
  },
  {
   "cell_type": "code",
   "execution_count": 20,
   "id": "aa69886b-c1d9-4f89-935e-963dda3a3532",
   "metadata": {},
   "outputs": [
    {
     "data": {
      "text/plain": [
       "0      62000.0\n",
       "1      62000.0\n",
       "2      62000.0\n",
       "3      62000.0\n",
       "4      62000.0\n",
       "        ...   \n",
       "995    62000.0\n",
       "996    62000.0\n",
       "997    62000.0\n",
       "998    62000.0\n",
       "999    62000.0\n",
       "Length: 1000, dtype: float64"
      ]
     },
     "execution_count": 20,
     "metadata": {},
     "output_type": "execute_result"
    }
   ],
   "source": [
    "results"
   ]
  },
  {
   "cell_type": "code",
   "execution_count": null,
   "id": "25368141-41c3-4db3-b857-fdda11d303ef",
   "metadata": {},
   "outputs": [],
   "source": []
  }
 ],
 "metadata": {
  "kernelspec": {
   "display_name": "Python 3 (ipykernel)",
   "language": "python",
   "name": "python3"
  },
  "language_info": {
   "codemirror_mode": {
    "name": "ipython",
    "version": 3
   },
   "file_extension": ".py",
   "mimetype": "text/x-python",
   "name": "python",
   "nbconvert_exporter": "python",
   "pygments_lexer": "ipython3",
   "version": "3.11.7"
  }
 },
 "nbformat": 4,
 "nbformat_minor": 5
}
