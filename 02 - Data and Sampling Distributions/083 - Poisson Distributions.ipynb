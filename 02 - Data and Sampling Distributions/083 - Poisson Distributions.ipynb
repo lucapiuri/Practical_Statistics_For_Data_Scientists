{
 "cells": [
  {
   "cell_type": "markdown",
   "id": "3d51a7b0-fde5-467c-b843-ab21e7375e1f",
   "metadata": {},
   "source": [
    "#### Poisson Distributions\n",
    "\n",
    "The Poisson distribution tells us the distribu‐ tion of events per unit of time or space when we sample many such units."
   ]
  },
  {
   "cell_type": "code",
   "execution_count": 4,
   "id": "04b97860-5450-4c4e-942a-83afd5d1569b",
   "metadata": {},
   "outputs": [],
   "source": [
    "%matplotlib inline\n",
    "\n",
    "from pathlib import Path\n",
    "import pandas as pd\n",
    "import numpy as np\n",
    "from scipy import stats\n",
    "from sklearn.utils import resample\n",
    "\n",
    "import seaborn as sns\n",
    "import matplotlib.pylab as plt"
   ]
  },
  {
   "cell_type": "code",
   "execution_count": 5,
   "id": "90200747-f4d3-4d67-845d-adf66bcd19f5",
   "metadata": {},
   "outputs": [
    {
     "data": {
      "image/png": "[encoded data removed]",
      "text/plain": [
       "<Figure size 640x480 with 1 Axes>"
      ]
     },
     "metadata": {},
     "output_type": "display_data"
    }
   ],
   "source": [
    "sample = stats.poisson.rvs(2, size=100)\n",
    "\n",
    "pd.Series(sample).plot.hist()\n",
    "plt.show()\n"
   ]
  },
  {
   "attachments": {},
   "cell_type": "markdown",
   "id": "01f4ac67-61ed-4dee-aa7f-745ad4e141f6",
   "metadata": {},
   "source": [
    "The Poisson distribution is a probability distribution used in statistics to model the number of events that occur within a fixed interval of time, space, or another domain, under specific conditions. It is commonly applied when events happen independently of each other.\n",
    "\n",
    "Characteristics of Poisson Distribution:\n",
    "\n",
    "    Counts of Events:\n",
    "        The Poisson distribution describes the probability of a given number of events (kk) occurring within a fixed interval.\n",
    "\n",
    "    Fixed Interval:\n",
    "        The interval could be time, area, volume, etc.\n",
    "\n",
    "    Independence:\n",
    "        Events occur independently of one another.\n",
    "\n",
    "    Constant Rate:\n",
    "        Events happen at a constant average rate (λλ), which is both the mean and variance of the distribution.\n",
    "        "
   ]
  },
  {
   "cell_type": "markdown",
   "id": "fe538e91-6b4d-484a-8679-4c61c105a47f",
   "metadata": {},
   "source": [
    "When to Use the Poisson Distribution:\n",
    "\n",
    "    Rare Events:\n",
    "        When modeling rare or random events that occur independently.\n",
    "        Example: The number of car accidents in a day at a specific intersection.\n",
    "\n",
    "    Counts Over Time/Space:\n",
    "        To count occurrences over a defined interval.\n",
    "        Example: The number of emails received in an hour.\n",
    "\n",
    "    Assumptions Hold:\n",
    "        Events must occur independently.\n",
    "        The rate (λλ) must remain constant.\n",
    "\n",
    "    Discrete Outcomes:\n",
    "        The number of occurrences is a non-negative integer."
   ]
  },
  {
   "cell_type": "markdown",
   "id": "83315904-c1b4-42c8-8371-c05f7fa01658",
   "metadata": {},
   "source": [
    "#### Example Calculation:\n",
    "\n",
    "Suppose the average number of emails received in an hour is λ=4. \n",
    "\n",
    "What is the probability of receiving exactly 6 emails in an hour?\n",
    "\n",
    "Using the PMF:\n",
    "P(X=6)= (4^6 e^−4) / 6!\n"
   ]
  },
  {
   "cell_type": "code",
   "execution_count": 17,
   "id": "e397660f-e791-40b2-91fa-34e7dee614d8",
   "metadata": {},
   "outputs": [
    {
     "name": "stdout",
     "output_type": "stream",
     "text": [
      "Probability of receiving exactly 6 emails: 0.1042\n"
     ]
    }
   ],
   "source": [
    "from scipy.stats import poisson\n",
    "\n",
    "# Parameters\n",
    "lambda_ = 4  # Average rate\n",
    "k = 6  # Number of events\n",
    "\n",
    "# Probability\n",
    "# pfm =  Probability mass function\n",
    "\n",
    "probability = poisson.pmf(k, lambda_)\n",
    "print(f\"Probability of receiving exactly 6 emails: {probability:.4f}\")"
   ]
  },
  {
   "cell_type": "markdown",
   "id": "bb4911dd-def8-4d02-99cb-d746e085534a",
   "metadata": {},
   "source": [
    "Key Properties:\n",
    "\n",
    "    Mean: E[X]=λE[X]=λ\n",
    "    Variance: Var(X)=λVar(X)=λ\n",
    "\n",
    "The Poisson distribution is particularly useful when dealing with counts of events and modeling phenomena that occur at random but follow a predictable average rate."
   ]
  },
  {
   "cell_type": "code",
   "execution_count": null,
   "id": "d1848a4a-cc25-47e1-b9de-b249641033d5",
   "metadata": {},
   "outputs": [],
   "source": []
  }
 ],
 "metadata": {
  "kernelspec": {
   "display_name": "Python 3 (ipykernel)",
   "language": "python",
   "name": "python3"
  },
  "language_info": {
   "codemirror_mode": {
    "name": "ipython",
    "version": 3
   },
   "file_extension": ".py",
   "mimetype": "text/x-python",
   "name": "python",
   "nbconvert_exporter": "python",
   "pygments_lexer": "ipython3",
   "version": "3.11.7"
  }
 },
 "nbformat": 4,
 "nbformat_minor": 5
}
