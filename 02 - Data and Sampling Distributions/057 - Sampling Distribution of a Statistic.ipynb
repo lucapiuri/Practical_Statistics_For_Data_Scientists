{
 "cells": [
  {
   "cell_type": "markdown",
   "id": "d4afaab3-0d75-48b6-9945-82f480a9da81",
   "metadata": {},
   "source": [
    "# Sampling Distribution of a Statistic - Page 57\n"
   ]
  },
  {
   "cell_type": "code",
   "execution_count": 51,
   "id": "edec148a-b8a8-47a2-a302-5e2cbf0f51ca",
   "metadata": {},
   "outputs": [],
   "source": [
    "import pandas as pd\n",
    "import seaborn as sns\n",
    "import matplotlib.pylab as plt\n",
    "\n",
    "loans_income = pd.read_csv(\"loans_income.csv\").squeeze('columns')\n",
    "# Squeeze 1 dimensional axis objects into scalars\n",
    "\n"
   ]
  },
  {
   "cell_type": "code",
   "execution_count": 109,
   "id": "514f7b58-4525-4c02-a0eb-ad447fddd5cc",
   "metadata": {},
   "outputs": [
    {
     "name": "stdout",
     "output_type": "stream",
     "text": [
      "shape: (50000,) \n",
      "\n",
      "0     67000\n",
      "1     52000\n",
      "2    100000\n",
      "3     78762\n",
      "4     37041\n",
      "Name: x, dtype: int64\n"
     ]
    }
   ],
   "source": [
    "#loans_income.info()\n",
    "print(\"shape:\", loans_income.shape, \"\\n\")\n",
    "print(loans_income.head())"
   ]
  },
  {
   "cell_type": "code",
   "execution_count": 75,
   "id": "806dc7a5-ec5d-4b0a-8292-239733bc0da5",
   "metadata": {},
   "outputs": [],
   "source": [
    "# We format the data into a DataFrame:\n",
    "\n",
    "sample_data = pd.DataFrame({\n",
    "        'income': loans_income.sample(1000),\n",
    "        'type': 'Data',\n",
    "    })"
   ]
  },
  {
   "cell_type": "code",
   "execution_count": 111,
   "id": "fc6c243d-6994-445e-82ea-a05e1ba93b2a",
   "metadata": {},
   "outputs": [
    {
     "data": {
      "text/html": [
       "<div>\n",
       "<style scoped>\n",
       "    .dataframe tbody tr th:only-of-type {\n",
       "        vertical-align: middle;\n",
       "    }\n",
       "\n",
       "    .dataframe tbody tr th {\n",
       "        vertical-align: top;\n",
       "    }\n",
       "\n",
       "    .dataframe thead th {\n",
       "        text-align: right;\n",
       "    }\n",
       "</style>\n",
       "<table border=\"1\" class=\"dataframe\">\n",
       "  <thead>\n",
       "    <tr style=\"text-align: right;\">\n",
       "      <th></th>\n",
       "      <th>income</th>\n",
       "      <th>type</th>\n",
       "    </tr>\n",
       "  </thead>\n",
       "  <tbody>\n",
       "    <tr>\n",
       "      <th>46098</th>\n",
       "      <td>65000</td>\n",
       "      <td>Data</td>\n",
       "    </tr>\n",
       "    <tr>\n",
       "      <th>39927</th>\n",
       "      <td>40000</td>\n",
       "      <td>Data</td>\n",
       "    </tr>\n",
       "    <tr>\n",
       "      <th>40181</th>\n",
       "      <td>50000</td>\n",
       "      <td>Data</td>\n",
       "    </tr>\n",
       "    <tr>\n",
       "      <th>27346</th>\n",
       "      <td>53000</td>\n",
       "      <td>Data</td>\n",
       "    </tr>\n",
       "    <tr>\n",
       "      <th>31059</th>\n",
       "      <td>40000</td>\n",
       "      <td>Data</td>\n",
       "    </tr>\n",
       "    <tr>\n",
       "      <th>34838</th>\n",
       "      <td>45000</td>\n",
       "      <td>Data</td>\n",
       "    </tr>\n",
       "    <tr>\n",
       "      <th>2102</th>\n",
       "      <td>120000</td>\n",
       "      <td>Data</td>\n",
       "    </tr>\n",
       "    <tr>\n",
       "      <th>1575</th>\n",
       "      <td>91475</td>\n",
       "      <td>Data</td>\n",
       "    </tr>\n",
       "    <tr>\n",
       "      <th>12034</th>\n",
       "      <td>45000</td>\n",
       "      <td>Data</td>\n",
       "    </tr>\n",
       "    <tr>\n",
       "      <th>9016</th>\n",
       "      <td>165000</td>\n",
       "      <td>Data</td>\n",
       "    </tr>\n",
       "  </tbody>\n",
       "</table>\n",
       "</div>"
      ],
      "text/plain": [
       "       income  type\n",
       "46098   65000  Data\n",
       "39927   40000  Data\n",
       "40181   50000  Data\n",
       "27346   53000  Data\n",
       "31059   40000  Data\n",
       "34838   45000  Data\n",
       "2102   120000  Data\n",
       "1575    91475  Data\n",
       "12034   45000  Data\n",
       "9016   165000  Data"
      ]
     },
     "execution_count": 111,
     "metadata": {},
     "output_type": "execute_result"
    }
   ],
   "source": [
    "# Showing the sample data, every time it's different subset\n",
    "sample_data.head()"
   ]
  },
  {
   "cell_type": "code",
   "execution_count": 127,
   "id": "48494bb1-43ca-4a68-8adc-5017e6fa34c3",
   "metadata": {},
   "outputs": [
    {
     "data": {
      "text/html": [
       "<div>\n",
       "<style scoped>\n",
       "    .dataframe tbody tr th:only-of-type {\n",
       "        vertical-align: middle;\n",
       "    }\n",
       "\n",
       "    .dataframe tbody tr th {\n",
       "        vertical-align: top;\n",
       "    }\n",
       "\n",
       "    .dataframe thead th {\n",
       "        text-align: right;\n",
       "    }\n",
       "</style>\n",
       "<table border=\"1\" class=\"dataframe\">\n",
       "  <thead>\n",
       "    <tr style=\"text-align: right;\">\n",
       "      <th></th>\n",
       "      <th>income</th>\n",
       "      <th>type</th>\n",
       "    </tr>\n",
       "  </thead>\n",
       "  <tbody>\n",
       "    <tr>\n",
       "      <th>0</th>\n",
       "      <td>58600.0</td>\n",
       "      <td>Mean of 5</td>\n",
       "    </tr>\n",
       "    <tr>\n",
       "      <th>1</th>\n",
       "      <td>59200.0</td>\n",
       "      <td>Mean of 5</td>\n",
       "    </tr>\n",
       "    <tr>\n",
       "      <th>2</th>\n",
       "      <td>100200.0</td>\n",
       "      <td>Mean of 5</td>\n",
       "    </tr>\n",
       "    <tr>\n",
       "      <th>3</th>\n",
       "      <td>89740.0</td>\n",
       "      <td>Mean of 5</td>\n",
       "    </tr>\n",
       "    <tr>\n",
       "      <th>4</th>\n",
       "      <td>96200.0</td>\n",
       "      <td>Mean of 5</td>\n",
       "    </tr>\n",
       "  </tbody>\n",
       "</table>\n",
       "</div>"
      ],
      "text/plain": [
       "     income       type\n",
       "0   58600.0  Mean of 5\n",
       "1   59200.0  Mean of 5\n",
       "2  100200.0  Mean of 5\n",
       "3   89740.0  Mean of 5\n",
       "4   96200.0  Mean of 5"
      ]
     },
     "execution_count": 127,
     "metadata": {},
     "output_type": "execute_result"
    }
   ],
   "source": [
    "\n",
    "sample_mean_05 = pd.DataFrame({\n",
    "'income': [loans_income.sample(5).mean() for _ in range(1000)],\n",
    "        'type': 'Mean of 5',\n",
    "    })\n",
    "\n",
    "sample_mean_05.head()\n"
   ]
  },
  {
   "cell_type": "code",
   "execution_count": 129,
   "id": "99d577b4-bbf6-447c-a9cb-9b4bdf9a725d",
   "metadata": {},
   "outputs": [
    {
     "data": {
      "text/html": [
       "<div>\n",
       "<style scoped>\n",
       "    .dataframe tbody tr th:only-of-type {\n",
       "        vertical-align: middle;\n",
       "    }\n",
       "\n",
       "    .dataframe tbody tr th {\n",
       "        vertical-align: top;\n",
       "    }\n",
       "\n",
       "    .dataframe thead th {\n",
       "        text-align: right;\n",
       "    }\n",
       "</style>\n",
       "<table border=\"1\" class=\"dataframe\">\n",
       "  <thead>\n",
       "    <tr style=\"text-align: right;\">\n",
       "      <th></th>\n",
       "      <th>income</th>\n",
       "      <th>type</th>\n",
       "    </tr>\n",
       "  </thead>\n",
       "  <tbody>\n",
       "    <tr>\n",
       "      <th>0</th>\n",
       "      <td>62894.00</td>\n",
       "      <td>Mean of 20</td>\n",
       "    </tr>\n",
       "    <tr>\n",
       "      <th>1</th>\n",
       "      <td>59442.00</td>\n",
       "      <td>Mean of 20</td>\n",
       "    </tr>\n",
       "    <tr>\n",
       "      <th>2</th>\n",
       "      <td>75748.20</td>\n",
       "      <td>Mean of 20</td>\n",
       "    </tr>\n",
       "    <tr>\n",
       "      <th>3</th>\n",
       "      <td>73261.50</td>\n",
       "      <td>Mean of 20</td>\n",
       "    </tr>\n",
       "    <tr>\n",
       "      <th>4</th>\n",
       "      <td>64946.65</td>\n",
       "      <td>Mean of 20</td>\n",
       "    </tr>\n",
       "  </tbody>\n",
       "</table>\n",
       "</div>"
      ],
      "text/plain": [
       "     income        type\n",
       "0  62894.00  Mean of 20\n",
       "1  59442.00  Mean of 20\n",
       "2  75748.20  Mean of 20\n",
       "3  73261.50  Mean of 20\n",
       "4  64946.65  Mean of 20"
      ]
     },
     "execution_count": 129,
     "metadata": {},
     "output_type": "execute_result"
    }
   ],
   "source": [
    "\n",
    "sample_mean_20 = pd.DataFrame({\n",
    "'income': [loans_income.sample(20).mean() for _ in range(1000)], 'type': 'Mean of 20',\n",
    "    })\n",
    "\n",
    "sample_mean_20.head()"
   ]
  },
  {
   "cell_type": "code",
   "execution_count": 133,
   "id": "43ba77c1-c7fc-41fc-b17d-335551a76be1",
   "metadata": {},
   "outputs": [
    {
     "data": {
      "text/html": [
       "<div>\n",
       "<style scoped>\n",
       "    .dataframe tbody tr th:only-of-type {\n",
       "        vertical-align: middle;\n",
       "    }\n",
       "\n",
       "    .dataframe tbody tr th {\n",
       "        vertical-align: top;\n",
       "    }\n",
       "\n",
       "    .dataframe thead th {\n",
       "        text-align: right;\n",
       "    }\n",
       "</style>\n",
       "<table border=\"1\" class=\"dataframe\">\n",
       "  <thead>\n",
       "    <tr style=\"text-align: right;\">\n",
       "      <th></th>\n",
       "      <th>income</th>\n",
       "      <th>type</th>\n",
       "    </tr>\n",
       "  </thead>\n",
       "  <tbody>\n",
       "    <tr>\n",
       "      <th>46098</th>\n",
       "      <td>65000.00</td>\n",
       "      <td>Data</td>\n",
       "    </tr>\n",
       "    <tr>\n",
       "      <th>39927</th>\n",
       "      <td>40000.00</td>\n",
       "      <td>Data</td>\n",
       "    </tr>\n",
       "    <tr>\n",
       "      <th>40181</th>\n",
       "      <td>50000.00</td>\n",
       "      <td>Data</td>\n",
       "    </tr>\n",
       "    <tr>\n",
       "      <th>27346</th>\n",
       "      <td>53000.00</td>\n",
       "      <td>Data</td>\n",
       "    </tr>\n",
       "    <tr>\n",
       "      <th>31059</th>\n",
       "      <td>40000.00</td>\n",
       "      <td>Data</td>\n",
       "    </tr>\n",
       "    <tr>\n",
       "      <th>...</th>\n",
       "      <td>...</td>\n",
       "      <td>...</td>\n",
       "    </tr>\n",
       "    <tr>\n",
       "      <th>995</th>\n",
       "      <td>70464.95</td>\n",
       "      <td>Mean of 20</td>\n",
       "    </tr>\n",
       "    <tr>\n",
       "      <th>996</th>\n",
       "      <td>76230.00</td>\n",
       "      <td>Mean of 20</td>\n",
       "    </tr>\n",
       "    <tr>\n",
       "      <th>997</th>\n",
       "      <td>62859.00</td>\n",
       "      <td>Mean of 20</td>\n",
       "    </tr>\n",
       "    <tr>\n",
       "      <th>998</th>\n",
       "      <td>61829.80</td>\n",
       "      <td>Mean of 20</td>\n",
       "    </tr>\n",
       "    <tr>\n",
       "      <th>999</th>\n",
       "      <td>65158.50</td>\n",
       "      <td>Mean of 20</td>\n",
       "    </tr>\n",
       "  </tbody>\n",
       "</table>\n",
       "<p>3000 rows × 2 columns</p>\n",
       "</div>"
      ],
      "text/plain": [
       "         income        type\n",
       "46098  65000.00        Data\n",
       "39927  40000.00        Data\n",
       "40181  50000.00        Data\n",
       "27346  53000.00        Data\n",
       "31059  40000.00        Data\n",
       "...         ...         ...\n",
       "995    70464.95  Mean of 20\n",
       "996    76230.00  Mean of 20\n",
       "997    62859.00  Mean of 20\n",
       "998    61829.80  Mean of 20\n",
       "999    65158.50  Mean of 20\n",
       "\n",
       "[3000 rows x 2 columns]"
      ]
     },
     "execution_count": 133,
     "metadata": {},
     "output_type": "execute_result"
    }
   ],
   "source": [
    "results"
   ]
  },
  {
   "cell_type": "code",
   "execution_count": 153,
   "id": "c0c7631f-708f-4890-8bc8-af5328003634",
   "metadata": {},
   "outputs": [
    {
     "data": {
      "text/plain": [
       "<seaborn.axisgrid.FacetGrid at 0x1300b76d0>"
      ]
     },
     "execution_count": 153,
     "metadata": {},
     "output_type": "execute_result"
    },
    {
     "data": {
      "image/png": "[encoded data removed]",
      "text/plain": [
       "<Figure size 400x600 with 3 Axes>"
      ]
     },
     "metadata": {},
     "output_type": "display_data"
    }
   ],
   "source": [
    "results = pd.concat([sample_data, sample_mean_05, sample_mean_20])\n",
    "\n",
    "# FacetGrid = Multi-plot grid for plotting conditional relationships.\n",
    "\n",
    "g = sns.FacetGrid(results, col='type', col_wrap=1, height=2, aspect=2)\n",
    "\n",
    "# col= Variables that define subsets of the data, which will be drawn on separate facets in the grid\n",
    "# col_wrap = “Wrap” the column variable at this width, so that the column facets span multiple rows. = 1 graph per row\n",
    "# height = Height (in inches) of each facet\n",
    "# aspect = Aspect ratio of each facet, so that aspect * height gives the width of each facet in inches.\n",
    "\n",
    "g.map(plt.hist, 'income', range=[0, 200000], bins=40)\n",
    "\n",
    "\n",
    "                                         \n"
   ]
  },
  {
   "cell_type": "markdown",
   "id": "05c1378c-8915-43b8-926f-413badb714f6",
   "metadata": {},
   "source": [
    "# map(hist)\n",
    "The map() function is used to apply a given function (\"hist\" in this case) to every item of an iterable, \n",
    "such as a list or tuple, and returns a map object (which is an iterator). \n",
    "\n",
    "It takes as arguments:\n",
    "\n",
    "- The function to apply (plt.hist).\n",
    "- Column names or data variables to be passed to the function ('income' here).\n",
    "\n",
    "For each unique value of the type column, Seaborn creates a subset of the data and applies the function to plot a histogram of the income column.\n",
    "\n",
    "Additional arguments to plt.hist:\n",
    "\n",
    "    range=[0, 200000]: Specifies the range of the histogram.\n",
    "    bins=40: Specifies the number of bins for the histogram.\n",
    "\n",
    "\n",
    "## Summary\n",
    "\n",
    "The map function iterates over each facet (subplot) created by the FacetGrid and applies the specified function (plt.hist) to the corresponding subset of the data. Each subplot visualizes the distribution of income for one unique value of type."
   ]
  },
  {
   "cell_type": "code",
   "execution_count": 156,
   "id": "11fd05a5-4218-46e9-b2ea-90f0c3633afb",
   "metadata": {},
   "outputs": [
    {
     "data": {
      "text/plain": [
       "<seaborn.axisgrid.FacetGrid at 0x1300b76d0>"
      ]
     },
     "execution_count": 156,
     "metadata": {},
     "output_type": "execute_result"
    }
   ],
   "source": [
    "\n",
    "g.set_axis_labels('Income', 'Count')\n",
    "g.set_titles('{col_name}')"
   ]
  },
  {
   "cell_type": "markdown",
   "id": "154c054e-e7e6-4617-bbdd-03541e2f5a30",
   "metadata": {},
   "source": [
    "## col_name\n",
    "\n",
    "The line g.set_titles('{col_name}') in this context is used to customize the titles of the subplots (facets) in the FacetGrid.\n",
    "g.set_titles:\n",
    "\n",
    "This method controls how the titles of the subplots are displayed in a FacetGrid.\n",
    "\n",
    "The argument '{col_name}' specifies the template for the titles.\n",
    "\n",
    "{col_name}:\n",
    "\n",
    "This is a placeholder for the column name that is used to create the facets (in this case, the type column from results).\n",
    "For each subplot, {col_name} is replaced by the unique value of the type column that corresponds to that facet.\n"
   ]
  },
  {
   "cell_type": "code",
   "execution_count": null,
   "id": "5fe9564c-537d-4e46-a969-e40e9c452231",
   "metadata": {},
   "outputs": [],
   "source": []
  }
 ],
 "metadata": {
  "kernelspec": {
   "display_name": "Python 3 (ipykernel)",
   "language": "python",
   "name": "python3"
  },
  "language_info": {
   "codemirror_mode": {
    "name": "ipython",
    "version": 3
   },
   "file_extension": ".py",
   "mimetype": "text/x-python",
   "name": "python",
   "nbconvert_exporter": "python",
   "pygments_lexer": "ipython3",
   "version": "3.11.7"
  }
 },
 "nbformat": 4,
 "nbformat_minor": 5
}
