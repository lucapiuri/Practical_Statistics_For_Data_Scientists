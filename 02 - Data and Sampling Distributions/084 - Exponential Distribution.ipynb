{
 "cells": [
  {
   "cell_type": "markdown",
   "id": "cd4acb05-59ee-459f-8d0d-f92322069ffe",
   "metadata": {},
   "source": [
    "#### Exponential Distribution"
   ]
  },
  {
   "cell_type": "code",
   "execution_count": 18,
   "id": "3108283f-b476-455d-b455-89dfcdde1c34",
   "metadata": {},
   "outputs": [],
   "source": [
    "from pathlib import Path\n",
    "import pandas as pd\n",
    "import numpy as np\n",
    "from scipy import stats\n",
    "from sklearn.utils import resample\n",
    "\n",
    "import seaborn as sns\n",
    "import matplotlib.pylab as plt\n"
   ]
  },
  {
   "cell_type": "code",
   "execution_count": 6,
   "id": "7b1bb0d4-a18b-4f43-9695-957d35125dd0",
   "metadata": {},
   "outputs": [
    {
     "data": {
      "image/png": "[encoded data removed]",
      "text/plain": [
       "<Figure size 640x480 with 1 Axes>"
      ]
     },
     "metadata": {},
     "output_type": "display_data"
    }
   ],
   "source": [
    "# This code would generate 100 random numbers from an exponential distribution where the mean number of events per time period is 0.2. \n",
    "# So you could use it to simu‐ late 100 intervals, in minutes, between service calls, \n",
    "# where the average rate of incom‐ ing calls is 0.2 per minute.\n",
    "\n",
    "sample = stats.expon.rvs(scale=5, size=100)\n",
    "\n",
    "pd.Series(sample).plot.hist()\n",
    "plt.show()\n",
    "\n"
   ]
  },
  {
   "cell_type": "markdown",
   "id": "11731d33-76a9-407e-a60e-fb87659d3a78",
   "metadata": {},
   "source": [
    "A key assumption in any simulation study for either the Poisson or exponential distri‐ bution is that the rate, λ, remains constant over the period being considered"
   ]
  },
  {
   "cell_type": "markdown",
   "id": "4d8009dd-f797-468c-b58d-729e25808b55",
   "metadata": {},
   "source": [
    "The exponential distribution is a continuous probability distribution used in statistics to model the time between events in a process that occurs at a constant average rate. It is commonly used to describe the time until the first event (such as failure or arrival) in a Poisson process."
   ]
  },
  {
   "cell_type": "markdown",
   "id": "0942f103-16c3-48f6-90ee-8cd84a42bb4b",
   "metadata": {},
   "source": [
    "### Characteristics of the Exponential Distribution:\n",
    "\n",
    "    Memoryless Property:\n",
    "        The exponential distribution is \"memoryless,\" meaning the probability of an event occurring in the future does not depend on how much time has already passed.\n",
    "\n",
    "    Non-Negative:\n",
    "        The variable represents time or distance, so its values are always non-negative (X≥0X≥0).\n",
    "\n",
    "    Single Parameter (λλ):\n",
    "        The distribution is defined by a single rate parameter, λ>0λ>0, which represents the average rate of occurrence."
   ]
  },
  {
   "cell_type": "markdown",
   "id": "202636e4-94f8-41cc-b2f8-173df6a078d8",
   "metadata": {},
   "source": [
    "Probability Density Function (PDF):\n",
    "\n",
    "The PDF of the exponential distribution is given by:\n",
    "f(x;λ)=λe^(−λx) , x≥0\n",
    "\n",
    "\n",
    "Where:\n",
    "\n",
    "    λ: The rate parameter (average number of events per unit time).\n",
    "    x: The random variable (time until the next event).\n",
    "\n",
    "Cumulative Distribution Function (CDF):\n",
    "\n",
    "The CDF is the probability that the time until the next event is less than or equal to xx:\n",
    "F(x;λ) = 1−e^(−λx) , x≥0\n"
   ]
  },
  {
   "cell_type": "markdown",
   "id": "e2b5ce2f-f3a8-417d-aafd-3a963b61c7f0",
   "metadata": {},
   "source": [
    "### When to Use the Exponential Distribution:\n",
    "\n",
    "    Time Between Events:\n",
    "        To model the time until the next event occurs in a Poisson process.\n",
    "        Example: The time until the next phone call at a call center.\n",
    "\n",
    "    Failure Times:\n",
    "        To model the time until a device or system fails if failures occur randomly.\n",
    "        Example: Lifetimes of light bulbs or electronic components.\n",
    "\n",
    "    Queueing Theory:\n",
    "        To model service times or inter-arrival times in systems like banks, call centers, or server requests.\n",
    "\n",
    "    Survival Analysis:\n",
    "        To analyze survival times in biological or mechanical systems."
   ]
  },
  {
   "cell_type": "code",
   "execution_count": 20,
   "id": "4a1258c1-e348-4892-b977-2e34bce9d1a2",
   "metadata": {},
   "outputs": [
    {
     "name": "stdout",
     "output_type": "stream",
     "text": [
      "Probability of the next call after 3 minutes: 0.0025\n"
     ]
    }
   ],
   "source": [
    "from scipy.stats import expon\n",
    "\n",
    "# Parameters\n",
    "lambda_ = 2  # Rate parameter\n",
    "time = 3  # Time interval\n",
    "\n",
    "# Probability of the next call after 3 minutes\n",
    "probability = 1 - expon.cdf(time, scale=1/lambda_)\n",
    "print(f\"Probability of the next call after 3 minutes: {probability:.4f}\")"
   ]
  },
  {
   "cell_type": "markdown",
   "id": "f2da9b61-5e4c-4b30-80a6-1b0a6a7feee8",
   "metadata": {},
   "source": [
    "#### Summary:\n",
    "\n",
    "The exponential distribution is ideal for modeling the time until the next event in scenarios where events occur randomly and independently at a constant average rate. It is closely related to the Poisson distribution (which models the number of events in a fixed interval) and is widely used in reliability analysis, queueing systems, and survival studies."
   ]
  },
  {
   "cell_type": "code",
   "execution_count": null,
   "id": "76cb5ae5-476e-4d23-9480-b8c6d138c2bd",
   "metadata": {},
   "outputs": [],
   "source": []
  }
 ],
 "metadata": {
  "kernelspec": {
   "display_name": "Python 3 (ipykernel)",
   "language": "python",
   "name": "python3"
  },
  "language_info": {
   "codemirror_mode": {
    "name": "ipython",
    "version": 3
   },
   "file_extension": ".py",
   "mimetype": "text/x-python",
   "name": "python",
   "nbconvert_exporter": "python",
   "pygments_lexer": "ipython3",
   "version": "3.11.7"
  }
 },
 "nbformat": 4,
 "nbformat_minor": 5
}
