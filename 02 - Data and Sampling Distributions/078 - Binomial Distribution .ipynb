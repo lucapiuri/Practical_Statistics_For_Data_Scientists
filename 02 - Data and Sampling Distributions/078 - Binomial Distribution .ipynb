{
 "cells": [
  {
   "cell_type": "markdown",
   "id": "7c25dc8e-e645-471a-aeb5-dc2fc396555d",
   "metadata": {},
   "source": [
    "## Binomial Distribution\n"
   ]
  },
  {
   "cell_type": "markdown",
   "id": "53e98f54-36e4-48aa-b25e-ebb7e74bd0c2",
   "metadata": {},
   "source": [
    "## Difference between stats.binom.pmf  and stats.binom.cdf\n",
    "\n",
    "1. stats.binom.pmf\n",
    "\n",
    "    Stands for: Probability Mass Function\n",
    "    Purpose: Calculates the probability of observing exactly a specific number of successes (kk) in nn trials of a binomial experiment.\n",
    "    Usage: Use pmf when you want the probability of one particular outcome.\n",
    "\n",
    "2. stats.binom.cdf\n",
    "\n",
    "    Stands for: Cumulative Distribution Function\n",
    "    Purpose: Calculates the cumulative probability of observing up to and including a specific number of successes (kk) in nn trials.\n",
    "    Usage: Use cdf when you want the probability of getting ≤k≤k successes.\n",
    "\n",
    "Practical Comparison:\n",
    "\n",
    "Suppose n=10n=10, p=0.5p=0.5, and k=3k=3:\n",
    "\n",
    "    pmf(3, 10, 0.5) gives the probability of exactly 3 successes.\n",
    "    cdf(3, 10, 0.5) gives the probability of 0, 1, 2, or 3 successes combined."
   ]
  },
  {
   "cell_type": "code",
   "execution_count": 15,
   "id": "8bcfeac3-4578-4282-bfff-d01f11a78b3c",
   "metadata": {},
   "outputs": [],
   "source": [
    "from pathlib import Path\n",
    "import pandas as pd\n",
    "import numpy as np\n",
    "from scipy import stats\n",
    "from sklearn.utils import resample\n",
    "\n",
    "import seaborn as sns\n",
    "import matplotlib.pylab as plt"
   ]
  },
  {
   "cell_type": "code",
   "execution_count": 23,
   "id": "f46962bb-abb9-4867-ade9-24549a053517",
   "metadata": {},
   "outputs": [
    {
     "name": "stdout",
     "output_type": "stream",
     "text": [
      "0.1171875\n"
     ]
    }
   ],
   "source": [
    "print(stats.binom.pmf(3, n=10, p=0.5))"
   ]
  },
  {
   "cell_type": "code",
   "execution_count": 25,
   "id": "912c5433-8133-41af-a0f0-ce72884a0e07",
   "metadata": {},
   "outputs": [
    {
     "name": "stdout",
     "output_type": "stream",
     "text": [
      "0.171875\n"
     ]
    }
   ],
   "source": [
    "print(stats.binom.cdf(3, n=10, p=0.5))\n"
   ]
  },
  {
   "cell_type": "code",
   "execution_count": null,
   "id": "6270c929-2286-47f5-892d-df4f0a4bdcc2",
   "metadata": {},
   "outputs": [],
   "source": []
  }
 ],
 "metadata": {
  "kernelspec": {
   "display_name": "Python 3 (ipykernel)",
   "language": "python",
   "name": "python3"
  },
  "language_info": {
   "codemirror_mode": {
    "name": "ipython",
    "version": 3
   },
   "file_extension": ".py",
   "mimetype": "text/x-python",
   "name": "python",
   "nbconvert_exporter": "python",
   "pygments_lexer": "ipython3",
   "version": "3.11.7"
  }
 },
 "nbformat": 4,
 "nbformat_minor": 5
}
