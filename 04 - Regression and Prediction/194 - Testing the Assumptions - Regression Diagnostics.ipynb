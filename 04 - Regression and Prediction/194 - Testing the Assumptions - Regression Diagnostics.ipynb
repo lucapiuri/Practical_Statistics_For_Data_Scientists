{
 "cells": [
  {
   "cell_type": "markdown",
   "id": "684e3d9c-bd51-41ff-99cb-b623e49678e3",
   "metadata": {},
   "source": [
    "## 194 - Testing the Assumptions: Regression Diagnostics"
   ]
  },
  {
   "cell_type": "code",
   "execution_count": 1,
   "id": "012f5c0e-3b38-419a-aa81-faa261d42a6e",
   "metadata": {},
   "outputs": [],
   "source": [
    "import pandas as pd\n",
    "import numpy as np\n",
    "from sklearn.metrics import r2_score, mean_squared_error\n",
    "from sklearn.linear_model import LinearRegression\n",
    "\n",
    "import statsmodels.api as sm\n",
    "import statsmodels.formula.api as smf\n",
    "from statsmodels.stats.outliers_influence import OLSInfluence\n",
    "\n",
    "from pygam import LinearGAM, s, l\n",
    "from pygam.datasets import wage\n",
    "\n",
    "\n",
    "import seaborn as sns\n",
    "import matplotlib.pyplot as plt\n",
    "\n",
    "\n"
   ]
  },
  {
   "cell_type": "code",
   "execution_count": 2,
   "id": "f54951f0-ff21-4304-b129-76d85fde9aed",
   "metadata": {},
   "outputs": [],
   "source": [
    "house = pd.read_csv('house_sales.csv', sep='\\t')"
   ]
  },
  {
   "cell_type": "markdown",
   "id": "fd289a9e-31cb-45a6-8508-9306a0255221",
   "metadata": {},
   "source": [
    "### Outliers\n",
    "\n",
    "The statsmodels package has the most developed support for outlier analysis.\n"
   ]
  },
  {
   "cell_type": "code",
   "execution_count": 3,
   "id": "5faf83e7-e396-48fc-9913-396ffe41841b",
   "metadata": {},
   "outputs": [
    {
     "name": "stdout",
     "output_type": "stream",
     "text": [
      "                            OLS Regression Results                            \n",
      "==============================================================================\n",
      "Dep. Variable:           AdjSalePrice   R-squared:                       0.795\n",
      "Model:                            OLS   Adj. R-squared:                  0.792\n",
      "Method:                 Least Squares   F-statistic:                     238.7\n",
      "Date:                Thu, 16 Jan 2025   Prob (F-statistic):          1.69e-103\n",
      "Time:                        10:55:20   Log-Likelihood:                -4226.0\n",
      "No. Observations:                 313   AIC:                             8464.\n",
      "Df Residuals:                     307   BIC:                             8486.\n",
      "Df Model:                           5                                         \n",
      "Covariance Type:            nonrobust                                         \n",
      "=================================================================================\n",
      "                    coef    std err          t      P>|t|      [0.025      0.975]\n",
      "---------------------------------------------------------------------------------\n",
      "SqFtTotLiving   209.6023     24.408      8.587      0.000     161.574     257.631\n",
      "SqFtLot          38.9333      5.330      7.305      0.000      28.445      49.421\n",
      "Bathrooms      2282.2641      2e+04      0.114      0.909    -3.7e+04    4.16e+04\n",
      "Bedrooms      -2.632e+04   1.29e+04     -2.043      0.042   -5.17e+04    -973.867\n",
      "BldgGrade        1.3e+05   1.52e+04      8.533      0.000       1e+05     1.6e+05\n",
      "const         -7.725e+05   9.83e+04     -7.861      0.000   -9.66e+05   -5.79e+05\n",
      "==============================================================================\n",
      "Omnibus:                       82.127   Durbin-Watson:                   1.508\n",
      "Prob(Omnibus):                  0.000   Jarque-Bera (JB):              586.561\n",
      "Skew:                           0.859   Prob(JB):                    4.26e-128\n",
      "Kurtosis:                       9.483   Cond. No.                     5.63e+04\n",
      "==============================================================================\n",
      "\n",
      "Notes:\n",
      "[1] Standard Errors assume that the covariance matrix of the errors is correctly specified.\n",
      "[2] The condition number is large, 5.63e+04. This might indicate that there are\n",
      "strong multicollinearity or other numerical problems.\n"
     ]
    }
   ],
   "source": [
    "# Let’s fit a regression to the King County house sales data for all sales in zip code 98105\n",
    "\n",
    "    # First we filter the \"house\" dataset and create a new subset dataset\n",
    "house_98105 = house.loc[house['ZipCode'] == 98105, ]\n",
    "\n",
    "\n",
    "    # These lines establish our model's ingredients. The predictors are the features we think influence house prices, \n",
    "    # while the outcome is what we're trying to predict (the adjusted sale price).\n",
    "\n",
    "    # We set the predicting variables\n",
    "predictors = ['SqFtTotLiving', 'SqFtLot', 'Bathrooms', 'Bedrooms', 'BldgGrade']\n",
    "\n",
    "    # And the outcome variable\n",
    "outcome = 'AdjSalePrice'\n",
    "\n",
    "\n",
    "    # This creates our regression model, \n",
    "    # we're using .assign(const=1) to add a constant term (also known as an intercept) to our predictors. \n",
    "    # This is like giving our model a starting point, a base price that gets adjusted up or down based on the house's features. \n",
    "\n",
    "house_outlier = sm.OLS(house_98105[outcome], house_98105[predictors].assign(const=1))\n",
    "\n",
    "\n",
    "    # These lines actually run the regression and show us the results. \n",
    "    # The model finds the best way to predict house prices in zip code 98105 using our chosen features.\n",
    "\n",
    "result_98105 = house_outlier.fit()\n",
    "print(result_98105.summary())\n"
   ]
  },
  {
   "cell_type": "code",
   "execution_count": 10,
   "id": "241a3dd6-76ed-4d53-b958-408fa3824696",
   "metadata": {},
   "outputs": [
    {
     "name": "stdout",
     "output_type": "stream",
     "text": [
      "24333 -4.326731804078564\n"
     ]
    }
   ],
   "source": [
    "# In statsmodels, use OLSInfluence to analyze the residuals\n",
    "# This helps us find unusual or influential data points in our house price model for zip code 98105.\n",
    "\n",
    "\n",
    "    # Creates an \"influence\" object from our regression results\n",
    "    # This as a special tool that examines each house in our dataset and asks \n",
    "    # \"How much does this particular house affect our overall understanding of house prices in this zip code?\"\n",
    "    # \"OLSInfluence = class to calculate outlier and influence measures for OLS result\"\n",
    "influence = OLSInfluence(result_98105)\n",
    "\n",
    "\n",
    "    # Calculates what we call \"studentized residuals\":\n",
    "    # A residual is the difference between what our model predicted for a house's price and its actual price. \n",
    "    # Studentized residuals are standardized in a way that makes them more comparable across different houses.\n",
    "    #    For example, we have:\n",
    "    #    - A tiny house where our prediction was off by $50,000\n",
    "    #    - A mansion where our prediction was off by $50,000\n",
    "    #    The same dollar amount might be a huge error for the tiny house but a small error for the mansion. \n",
    "    #    Studentized residuals help us account for this kind of context.\n",
    "\n",
    "sresiduals = influence.resid_studentized_internal\n",
    "\n",
    "\n",
    "    # This line finds the house with the most negative studentized residual. \n",
    "    # In other words, it finds the house that sold for much less than our model predicted, \n",
    "    # even after accounting for the house's characteristics. \n",
    "    # The idxmin() gives us the index (which house it is), and min() tells us how unusually low the price was.\n",
    "\n",
    "\n",
    "    # This code is designed to identify and analyze a specific outlier in the dataset based on residuals from a regression model:\n",
    "    # \".idxmin()\" returns the index of the smallest value in the series (the observation with the most negative residual).\n",
    "print(sresiduals.idxmin(), sresiduals.min())"
   ]
  },
  {
   "cell_type": "code",
   "execution_count": 12,
   "id": "37cc492a-fb41-41cd-a413-86dd2e2a7739",
   "metadata": {},
   "outputs": [
    {
     "name": "stdout",
     "output_type": "stream",
     "text": [
      "AdjSalePrice 119748.0\n",
      "SqFtTotLiving    2900\n",
      "SqFtLot          7276\n",
      "Bathrooms         3.0\n",
      "Bedrooms            6\n",
      "BldgGrade           7\n",
      "Name: 24333, dtype: object\n"
     ]
    }
   ],
   "source": [
    "# This helps us examine the details of our most unusual house sale.\n",
    "\n",
    "    # Previously we found the index of the house with the most negative studentized residual using sresiduals.idxmin() \n",
    "    # Now, we're using that index to pull out all information about that particular house. \n",
    "    # The \":\" after the comma means \"give me all columns\" - we want to see everything we know about this unusual property.\n",
    "\n",
    "outlier = house_98105.loc[sresiduals.idxmin(), :]\n",
    "\n",
    "\n",
    "    # We extracted that specific entry, and then we print information about it:\n",
    "    # from the series \"outlier\" that we extracted above, we print \"outcome\" = the selling price\n",
    "print('AdjSalePrice', outlier[outcome])\n",
    "\n",
    "    # And all the physical characteristics we used to predict its price:\n",
    "    # This information is crucial because it helps us understand why this house might be an outlier\n",
    "print(outlier[predictors])\n"
   ]
  },
  {
   "cell_type": "code",
   "execution_count": 14,
   "id": "fe50fea8-938e-413c-ab1b-f06791dfcd8c",
   "metadata": {},
   "outputs": [
    {
     "data": {
      "text/plain": [
       "pandas.core.series.Series"
      ]
     },
     "execution_count": 14,
     "metadata": {},
     "output_type": "execute_result"
    }
   ],
   "source": [
    "type(outlier)"
   ]
  },
  {
   "cell_type": "code",
   "execution_count": null,
   "id": "987a0447-6eb2-47b8-a02c-aafdd0acbe84",
   "metadata": {},
   "outputs": [],
   "source": []
  }
 ],
 "metadata": {
  "kernelspec": {
   "display_name": "Python [conda env:base] *",
   "language": "python",
   "name": "conda-base-py"
  },
  "language_info": {
   "codemirror_mode": {
    "name": "ipython",
    "version": 3
   },
   "file_extension": ".py",
   "mimetype": "text/x-python",
   "name": "python",
   "nbconvert_exporter": "python",
   "pygments_lexer": "ipython3",
   "version": "3.11.7"
  }
 },
 "nbformat": 4,
 "nbformat_minor": 5
}
