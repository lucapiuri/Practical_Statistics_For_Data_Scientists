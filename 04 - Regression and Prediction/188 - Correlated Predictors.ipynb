{
 "cells": [
  {
   "cell_type": "markdown",
   "id": "54415df7-26c1-470b-ba04-be1353605dcf",
   "metadata": {},
   "source": [
    "## 188 - Correlated Predictors (Interpreting the Regression Equation)"
   ]
  },
  {
   "cell_type": "code",
   "execution_count": 3,
   "id": "21185917-8362-414e-a7fe-0e64a165d8c7",
   "metadata": {},
   "outputs": [
    {
     "name": "stdout",
     "output_type": "stream",
     "text": [
      "no display found. Using non-interactive Agg backend\n"
     ]
    }
   ],
   "source": [
    "import pandas as pd\n",
    "import numpy as np\n",
    "from sklearn.metrics import r2_score, mean_squared_error\n",
    "from sklearn.linear_model import LinearRegression\n",
    "\n",
    "import statsmodels.api as sm\n",
    "import statsmodels.formula.api as smf\n",
    "from statsmodels.stats.outliers_influence import OLSInfluence\n",
    "\n",
    "from pygam import LinearGAM, s, l\n",
    "from pygam.datasets import wage\n",
    "\n",
    "\n",
    "import seaborn as sns\n",
    "import matplotlib.pyplot as plt\n",
    "\n",
    "# dmba = Data Mining for Business Analytics\n",
    "from dmba import stepwise_selection\n",
    "from dmba import AIC_score\n"
   ]
  },
  {
   "cell_type": "markdown",
   "id": "ab6a2db8-0804-412f-b8e4-81b9d6d0d24f",
   "metadata": {},
   "source": [
    "### Previous stepwise regression"
   ]
  },
  {
   "cell_type": "code",
   "execution_count": 4,
   "id": "4d86f02d-13af-452f-ae20-4510af44777f",
   "metadata": {},
   "outputs": [],
   "source": [
    "house = pd.read_csv('house_sales.csv', sep='\\t')"
   ]
  },
  {
   "cell_type": "code",
   "execution_count": 15,
   "id": "4cf58eb6-5f57-4de7-ac39-8c2fa675db54",
   "metadata": {},
   "outputs": [
    {
     "name": "stdout",
     "output_type": "stream",
     "text": [
      "Variables: SqFtTotLiving, SqFtLot, Bathrooms, Bedrooms, BldgGrade, NbrLivingUnits, SqFtFinBasement, YrBuilt, YrRenovated, NewConstruction, PropertyType_Single Family, PropertyType_Townhouse\n",
      "Start: score=647988.32, constant\n",
      "Step: score=633013.35, add SqFtTotLiving\n",
      "Step: score=630793.74, add BldgGrade\n",
      "Step: score=628230.29, add YrBuilt\n",
      "Step: score=627784.16, add Bedrooms\n",
      "Step: score=627602.21, add Bathrooms\n",
      "Step: score=627525.65, add PropertyType_Townhouse\n",
      "Step: score=627525.08, add SqFtFinBasement\n",
      "Step: score=627524.98, add PropertyType_Single Family\n",
      "Step: score=627524.98, unchanged None\n",
      "\n",
      "Intercept: 6178645.017\n",
      "Coefficients:\n",
      " SqFtTotLiving: 199.27755304201884\n",
      " BldgGrade: 137159.56022619773\n",
      " YrBuilt: -3565.4249392492993\n",
      " Bedrooms: -51947.38367361318\n",
      " Bathrooms: 42396.164527717796\n",
      " PropertyType_Townhouse: 84479.16203300405\n",
      " SqFtFinBasement: 7.046974967553979\n",
      " PropertyType_Single Family: 22912.055187017682\n"
     ]
    }
   ],
   "source": [
    "# Here we use the results from the stepwise regression:\n",
    "# More explaination and details in \"174 -  Model Selection and Stepwise Regression\"\n",
    "\n",
    "outcome = 'AdjSalePrice'\n",
    "y = house[outcome]\n",
    "\n",
    "predictors = ['SqFtTotLiving', 'SqFtLot', 'Bathrooms', 'Bedrooms',\n",
    "              'BldgGrade', 'PropertyType', 'NbrLivingUnits',\n",
    "              'SqFtFinBasement', 'YrBuilt', 'YrRenovated', \n",
    "              'NewConstruction']\n",
    "\n",
    "X = pd.get_dummies(house[predictors], drop_first=True, dtype=int)\n",
    "\n",
    "X['NewConstruction'] = [1 if nc else 0 for nc in X['NewConstruction']]\n",
    "\n",
    "    \n",
    "    # Define a function that returns a fitted model for a given set of variables, the train_model function\n",
    "\n",
    "def train_model(variables):\n",
    "    if len(variables) == 0:\n",
    "        return None\n",
    "    model = LinearRegression()\n",
    "    model.fit(X[variables], y)\n",
    "    return model\n",
    "\n",
    "\n",
    "    # Define the score_model Function\n",
    "    # Returns the AIC score for the model.\n",
    "    \n",
    "def score_model(model, variables):\n",
    "        \n",
    "    if len(variables) == 0:\n",
    "        return AIC_score(y, [y.mean()] * len(y), model, df=1)\n",
    "        \n",
    "    return AIC_score(y, model.predict(X[variables]), model)\n",
    "\n",
    "\n",
    "    # Perform Stepwise Selection\n",
    "    # We use stepwise selection to find the best combination of predictors for the regression model.\n",
    "best_model, best_variables = stepwise_selection(X.columns, train_model, score_model, \n",
    "                                                verbose=True)\n",
    "    # Print values\n",
    "print()\n",
    "    # Intercept: The value of the dependent variable when all predictors are 0:\n",
    "\n",
    "print(f'Intercept: {best_model.intercept_:.3f}')\n",
    "\n",
    "    # Coefficients: The relationship between each selected predictor and the target variable:\n",
    "print('Coefficients:')\n",
    "for name, coef in zip(best_variables, best_model.coef_):\n",
    "    print(f' {name}: {coef}')\n",
    "\n",
    "# The code uses stepwise selection to find the best predictors for a regression model.\n",
    "# It trains and evaluates models using AIC as the criterion.\n",
    "# Finally, it prints the intercept and coefficients of the best model"
   ]
  },
  {
   "cell_type": "markdown",
   "id": "45a6346f-d427-4976-88b2-70a3a63a11e1",
   "metadata": {},
   "source": [
    "### Creation of ZipGroups from previous Notebook"
   ]
  },
  {
   "cell_type": "code",
   "execution_count": 45,
   "id": "d8e133a5-11af-4b0d-9c15-138d621cfdf8",
   "metadata": {},
   "outputs": [
    {
     "name": "stdout",
     "output_type": "stream",
     "text": [
      "ZipCode  98038  98103  98042  98115  98117  98052  98034  98033  98059  98074  \\\n",
      "count      788    671    641    620    619    614    575    517    513    502   \n",
      "\n",
      "ZipCode  ...  98051  98024  98354  98050  98057  98288  98224  98068  98113  \\\n",
      "count    ...     32     31      9      7      4      4      3      1      1   \n",
      "\n",
      "ZipCode  98043  \n",
      "count        1  \n",
      "\n",
      "[1 rows x 80 columns]\n"
     ]
    }
   ],
   "source": [
    "print(pd.DataFrame(house['ZipCode'].value_counts()).transpose())\n",
    "\n",
    "predictors = ['SqFtTotLiving', 'SqFtLot', 'Bathrooms', \n",
    "              'Bedrooms', 'BldgGrade']\n",
    "outcome = 'AdjSalePrice'\n",
    "\n",
    "##\n",
    "\n",
    "house_lm = LinearRegression()\n",
    "house_lm.fit(house[predictors], house[outcome])\n",
    "\n",
    "## \n",
    "\n",
    "zip_residuals = pd.DataFrame({\n",
    "    'ZipCode': house['ZipCode'],\n",
    "    'residual' : house[outcome] - house_lm.predict(house[predictors]),\n",
    "})\n",
    "\n",
    "##\n",
    "\n",
    "zip_groups = pd.DataFrame([\n",
    "    {\n",
    "        'ZipCode': zipCode,\n",
    "        'count': len(x),\n",
    "        'median_residual': x.residual.median()\n",
    "    } \n",
    "    for zipCode, x in zip_residuals.groupby('ZipCode')\n",
    "]).sort_values('median_residual')\n",
    "\n",
    "\n",
    "\n",
    "\n",
    "zip_groups['cum_count'] = np.cumsum(zip_groups['count'])\n",
    "\n",
    "\n",
    "\n",
    "zip_groups['ZipGroup'] = pd.qcut(zip_groups['cum_count'], 5, labels=False, retbins=False)\n",
    "zip_groups.head()\n",
    "\n",
    "#print(zip_groups.ZipGroup.value_counts().sort_index())\n",
    "\n",
    "# Joining the ZipGroup column\n",
    "\n",
    "to_join = zip_groups[['ZipCode', 'ZipGroup']].set_index('ZipCode')\n",
    "house = house.join(to_join, on='ZipCode')\n",
    "house['ZipGroup'] = house['ZipGroup'].astype('category')"
   ]
  },
  {
   "cell_type": "markdown",
   "id": "a79e9047-861b-4823-aac6-9656ca4c49b8",
   "metadata": {},
   "source": [
    "## Correlated predictors"
   ]
  },
  {
   "cell_type": "code",
   "execution_count": 39,
   "id": "4000e580-9f25-4cb2-b5c8-00e1a4c2578e",
   "metadata": {},
   "outputs": [
    {
     "name": "stdout",
     "output_type": "stream",
     "text": [
      "Intercept: 6178645.017\n",
      "Coefficients:\n",
      " SqFtTotLiving: 199.27755304201884\n",
      " BldgGrade: 137159.56022619773\n",
      " YrBuilt: -3565.4249392492993\n",
      " Bedrooms: -51947.38367361318\n",
      " Bathrooms: 42396.164527717796\n",
      " PropertyType_Townhouse: 84479.16203300405\n",
      " SqFtFinBasement: 7.046974967553979\n",
      " PropertyType_Single Family: 22912.055187017682\n"
     ]
    }
   ],
   "source": [
    "# We print the results from the stepwise regression:\n",
    "\n",
    "print(f'Intercept: {best_model.intercept_:.3f}')\n",
    "print('Coefficients:')\n",
    "for name, coef in zip(best_variables, best_model.coef_):\n",
    "    print(f' {name}: {coef}')\n",
    "\n",
    "# The coefficient for Bedrooms is negative! This implies that adding a bedroom to a house will reduce its value. How can this be? \n",
    "# This is because the predictor variables are correlated: larger houses tend to have more bedrooms, \n",
    "# and it is the size that drives house value, not the number of bedrooms.\n",
    "\n",
    "# Having correlated predictors can make it difficult to interpret the sign and value of regression coefficients \n",
    "# (and can inflate the standard error of the estimates). \n"
   ]
  },
  {
   "cell_type": "code",
   "execution_count": 41,
   "id": "07ca0819-67a7-40ab-afb3-3afc513f44ff",
   "metadata": {},
   "outputs": [
    {
     "name": "stdout",
     "output_type": "stream",
     "text": [
      "Intercept: 4913973.344\n",
      "Coefficients:\n",
      " Bedrooms: 27150.537230215377\n",
      " BldgGrade: 248997.79366213758\n",
      " YrBuilt: -3211.7448621550866\n",
      " PropertyType_Single Family: -19898.495340502435\n",
      " PropertyType_Townhouse: -47355.4368733449\n"
     ]
    }
   ],
   "source": [
    "# The variables for bedrooms, house size, and number of bathrooms are all correlated\n",
    "\n",
    "# This is illustrated by the following example, which fits another regression \n",
    "# removing the variables SqFtTotLiving, SqFtFinBasement, and Bathrooms from the equation:\n",
    "\n",
    "predictors = ['Bedrooms', 'BldgGrade', 'PropertyType', 'YrBuilt']\n",
    "outcome = 'AdjSalePrice'\n",
    "\n",
    "X = pd.get_dummies(house[predictors], drop_first=True)\n",
    "\n",
    "reduced_lm = LinearRegression()\n",
    "reduced_lm.fit(X, house[outcome])\n",
    "\n",
    "\n",
    "print(f'Intercept: {reduced_lm.intercept_:.3f}')\n",
    "print('Coefficients:')\n",
    "for name, coef in zip(X.columns, reduced_lm.coef_):\n",
    "    print(f' {name}: {coef}')\n"
   ]
  },
  {
   "attachments": {},
   "cell_type": "markdown",
   "id": "39a85414-2733-4f86-aa7b-baa78beffb73",
   "metadata": {},
   "source": [
    "## Confounding variables\n"
   ]
  },
  {
   "cell_type": "code",
   "execution_count": 47,
   "id": "604d264f-4e34-4987-acfc-03849a5b7588",
   "metadata": {},
   "outputs": [
    {
     "name": "stdout",
     "output_type": "stream",
     "text": [
      "Intercept: -666637.469\n",
      "Coefficients:\n",
      " SqFtTotLiving: 210.61266005580157\n",
      " SqFtLot: 0.45498713854659023\n",
      " Bathrooms: 5928.425640001543\n",
      " Bedrooms: -41682.87184074475\n",
      " BldgGrade: 98541.18352725971\n",
      " PropertyType_Single Family: 19323.625287919334\n",
      " PropertyType_Townhouse: -78198.72092762387\n",
      " ZipGroup_1: 53317.17330659817\n",
      " ZipGroup_2: 116251.58883563544\n",
      " ZipGroup_3: 178360.53178793355\n",
      " ZipGroup_4: 338408.60185652005\n"
     ]
    }
   ],
   "source": [
    "# Here we have added ZipGroup to the predictors\n",
    "\n",
    "predictors = ['SqFtTotLiving', 'SqFtLot', 'Bathrooms', 'Bedrooms',\n",
    "              'BldgGrade', 'PropertyType', 'ZipGroup']\n",
    "outcome = 'AdjSalePrice'\n",
    "\n",
    "X = pd.get_dummies(house[predictors], drop_first=True)\n",
    "\n",
    "confounding_lm = LinearRegression()\n",
    "confounding_lm.fit(X, house[outcome])\n",
    "\n",
    "print(f'Intercept: {confounding_lm.intercept_:.3f}')\n",
    "print('Coefficients:')\n",
    "for name, coef in zip(X.columns, confounding_lm.coef_):\n",
    "    print(f' {name}: {coef}')\n",
    "\n",
    "# The coefficient for Bedrooms is still negative. While this is unintuitive, this is a well-known phenomenon in real estate. \n",
    "# For homes of the same livable area and number of bathrooms, having more and therefore smaller bedrooms \n",
    "# is associated with less valuable homes.\n"
   ]
  },
  {
   "cell_type": "markdown",
   "id": "3173c03d-e255-484d-aaff-9b55d860a585",
   "metadata": {},
   "source": [
    "## Interactions and Main Effects\n",
    "\n",
    "In Python, we need to use the statsmodels package to train linear regression models with interactions. This package was designed similar to R and allows defining models using a formula interface:"
   ]
  },
  {
   "cell_type": "code",
   "execution_count": 53,
   "id": "4fe06b5e-973c-4841-b3a5-8e06118a0f07",
   "metadata": {},
   "outputs": [
    {
     "name": "stdout",
     "output_type": "stream",
     "text": [
      "                            OLS Regression Results                            \n",
      "==============================================================================\n",
      "Dep. Variable:           AdjSalePrice   R-squared:                       0.682\n",
      "Model:                            OLS   Adj. R-squared:                  0.682\n",
      "Method:                 Least Squares   F-statistic:                     3247.\n",
      "Date:                Wed, 15 Jan 2025   Prob (F-statistic):               0.00\n",
      "Time:                        15:54:56   Log-Likelihood:            -3.1098e+05\n",
      "No. Observations:               22687   AIC:                         6.220e+05\n",
      "Df Residuals:                   22671   BIC:                         6.221e+05\n",
      "Df Model:                          15                                         \n",
      "Covariance Type:            nonrobust                                         \n",
      "=================================================================================================\n",
      "                                    coef    std err          t      P>|t|      [0.025      0.975]\n",
      "-------------------------------------------------------------------------------------------------\n",
      "Intercept                     -4.853e+05   2.05e+04    -23.701      0.000   -5.25e+05   -4.45e+05\n",
      "ZipGroup[T.1]                 -1.113e+04   1.34e+04     -0.830      0.407   -3.74e+04    1.52e+04\n",
      "ZipGroup[T.2]                  2.032e+04   1.18e+04      1.717      0.086   -2877.441    4.35e+04\n",
      "ZipGroup[T.3]                   2.05e+04   1.21e+04      1.697      0.090   -3180.870    4.42e+04\n",
      "ZipGroup[T.4]                 -1.499e+05   1.13e+04    -13.285      0.000   -1.72e+05   -1.28e+05\n",
      "PropertyType[T.Single Family]  1.357e+04   1.39e+04      0.975      0.330   -1.37e+04    4.09e+04\n",
      "PropertyType[T.Townhouse]     -5.884e+04   1.51e+04     -3.888      0.000   -8.85e+04   -2.92e+04\n",
      "SqFtTotLiving                   114.7650      4.863     23.600      0.000     105.233     124.297\n",
      "SqFtTotLiving:ZipGroup[T.1]      32.6043      5.712      5.708      0.000      21.409      43.799\n",
      "SqFtTotLiving:ZipGroup[T.2]      41.7822      5.187      8.056      0.000      31.616      51.948\n",
      "SqFtTotLiving:ZipGroup[T.3]      69.3415      5.619     12.341      0.000      58.329      80.354\n",
      "SqFtTotLiving:ZipGroup[T.4]     226.6836      4.820     47.032      0.000     217.237     236.131\n",
      "SqFtLot                           0.6869      0.052     13.296      0.000       0.586       0.788\n",
      "Bathrooms                     -3619.4533   3202.296     -1.130      0.258   -9896.174    2657.267\n",
      "Bedrooms                       -4.18e+04   2120.279    -19.715      0.000    -4.6e+04   -3.76e+04\n",
      "BldgGrade                      1.047e+05   2069.472     50.592      0.000    1.01e+05    1.09e+05\n",
      "==============================================================================\n",
      "Omnibus:                    30927.394   Durbin-Watson:                   1.581\n",
      "Prob(Omnibus):                  0.000   Jarque-Bera (JB):         34361794.502\n",
      "Skew:                           7.279   Prob(JB):                         0.00\n",
      "Kurtosis:                     193.101   Cond. No.                     5.80e+05\n",
      "==============================================================================\n",
      "\n",
      "Notes:\n",
      "[1] Standard Errors assume that the covariance matrix of the errors is correctly specified.\n",
      "[2] The condition number is large, 5.8e+05. This might indicate that there are\n",
      "strong multicollinearity or other numerical problems.\n"
     ]
    }
   ],
   "source": [
    "# You include interactions between variables using the * operator.\n",
    "# Location and house size appear to have a strong interaction\n",
    "\n",
    "#  It's using statsmodels to create an Ordinary Least Squares (OLS) regression that explores how different features \n",
    "# affect house prices, with special attention to how square footage impacts prices differently across zip code groups.\n",
    "\n",
    "    # The \"~\" symbol means \"is modeled by\" or \"is predicted by\". \n",
    "    # The left side (AdjSalePrice) is what we're trying to predict, and everything on the right represents our predictors.\n",
    "\n",
    "    # *\n",
    "    # \"SqFtTotLiving*ZipGroup\": the asterisk (*) tells statsmodels to create what we call an \"interaction term\". \n",
    "    # This means the model will allow the relationship between square footage and price to be different for each zip code group. \n",
    "    # Think of it like this: in expensive neighborhoods (high ZipGroup numbers), \n",
    "    # an extra square foot might add more value to a house than in less expensive neighborhoods.\n",
    "    #\n",
    "    # (The other terms are simpler - they're just regular predictors. The model assumes these features affect price \n",
    "    # the same way regardless of zip code group.\n",
    "\n",
    "model = smf.ols(formula='AdjSalePrice ~  SqFtTotLiving*ZipGroup + SqFtLot + ' +\n",
    "     'Bathrooms + Bedrooms + BldgGrade + PropertyType', data=house)\n",
    "results = model.fit()\n",
    "print(results.summary())\n",
    "\n",
    "    # The summary shows coefficients for each zip group showing how much an extra square foot of living space is worth in that group"
   ]
  },
  {
   "cell_type": "code",
   "execution_count": 57,
   "id": "542acfec-2f9c-497e-9331-033e356c22e9",
   "metadata": {},
   "outputs": [],
   "source": [
    "# Having a look at the summary:\n",
    "\n",
    "# R-squared:\n",
    "# The R-squared value of 0.682 tells us this model explains about 68.2% of the variation in house prices. \n",
    "\n",
    "# Coefficients:\n",
    "# The base effect of living space (SqFtTotLiving) is $114.77 per square foot in the lowest zip group (Group 0). \n",
    "# But look at how this changes across zip groups through the interaction terms (SqFtTotLiving:ZipGroup):\n",
    "#    - Group 1: adds $32.60 more per sqft (total: $147.37/sqft)\n",
    "#    - Group 2: adds $41.78 more per sqft (total: $156.55/sqft)\n",
    "#    - Group 3: adds $69.34 more per sqft (total: $184.11/sqft)\n",
    "#    - Group 4: adds $226.68 more per sqft (total: $341.45/sqft)\n",
    "# This shows a dramatic difference - an extra square foot in the highest-value neighborhoods (Group 4) \n",
    "# is worth almost three times as much as in the lowest-value areas (Group 0)!\n",
    "\n",
    "# Building Grade:\n",
    "# Building Grade has a huge positive impact: each grade point increase adds about $104,700 to the price\n",
    "\n",
    "# Bedrooms:\n",
    "# Each additional bedroom actually decreases price by about $41,800 \n",
    "# (this might seem counterintuitive, but remember we're controlling for all other variables, all else equal\",\n",
    "# which imples that, all else equal, equal footage, having extra bedrooms might not be good, as it will reduce the sizes of all rooms)\n",
    "\n",
    "# When we see a negative coefficient for bedrooms, it means that if we could somehow add a bedroom without changing any other feature \n",
    "# in our model, the price would tend to decrease by $41,800.\n",
    "# In practice, this situation might be rare - when people add bedrooms, they often change other characteristics too. \n",
    "# They might increase the total square footage, add another bathroom, or improve the building grade. \n",
    "# But the model helps us isolate these effects to understand each one independently.\n",
    "\n",
    "# Lot size:\n",
    "# Lot sizeadds about $0.69 per square foot\n",
    "\n",
    "# Confidence:\n",
    "# The tiny P>|t| values (0.000) for most coefficients tell us these relationships are statistically significant. \n",
    "# However, some features like Bathrooms (P>|t| = 0.258) don't show a significant relationship with price once we account for everything else.\n",
    "\n",
    "\n",
    "# NOTES\n",
    "# There are two cautionary notes at the bottom:\n",
    "# The high skewness (7.279) suggests some very expensive houses are pulling the distribution\n",
    "# The large condition number (5.80e+05) suggests some features might be closely related, \n",
    "# which could make individual coefficients less reliable\n",
    "\n"
   ]
  },
  {
   "cell_type": "code",
   "execution_count": null,
   "id": "305c1a58-515c-45d8-b5ec-2053b64a1690",
   "metadata": {},
   "outputs": [],
   "source": []
  }
 ],
 "metadata": {
  "kernelspec": {
   "display_name": "Python [conda env:base] *",
   "language": "python",
   "name": "conda-base-py"
  },
  "language_info": {
   "codemirror_mode": {
    "name": "ipython",
    "version": 3
   },
   "file_extension": ".py",
   "mimetype": "text/x-python",
   "name": "python",
   "nbconvert_exporter": "python",
   "pygments_lexer": "ipython3",
   "version": "3.11.7"
  }
 },
 "nbformat": 4,
 "nbformat_minor": 5
}
